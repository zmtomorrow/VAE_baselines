{
 "cells": [
  {
   "cell_type": "code",
   "execution_count": null,
   "id": "1f02bda3-84c7-4b80-9b9e-11df9d6c6357",
   "metadata": {},
   "outputs": [
    {
     "name": "stdout",
     "output_type": "stream",
     "text": [
      "/import/home/xzhoubi/hudson/VAE_baselines\n",
      "Colored MNIST dataset already exists\n",
      "Colored MNIST dataset already exists\n"
     ]
    },
    {
     "name": "stderr",
     "output_type": "stream",
     "text": [
      "  0%|                                                                              | 0/200 [00:00<?, ?it/s]/home/xzhoubi/hudson/miniconda3/envs/vcl/lib/python3.8/site-packages/torch/nn/modules/container.py:139: UserWarning: Implicit dimension choice for softmax has been deprecated. Change the call to include dim=X as an argument.\n",
      "  input = module(input)\n",
      "100%|████████████████████████████████████████████████████████████████████| 200/200 [00:15<00:00, 12.50it/s]\n"
     ]
    },
    {
     "name": "stdout",
     "output_type": "stream",
     "text": [
      " Epoch 0: Label Accuracy is 9.6875% Color Accuracy is 44.88750076293945%\n",
      " Epoch 0: Loss is 1685.5955810546875\n"
     ]
    },
    {
     "data": {
      "image/png": "[encoded data removed]",
      "text/plain": [
       "<Figure size 648x324 with 18 Axes>"
      ]
     },
     "metadata": {},
     "output_type": "display_data"
    },
    {
     "name": "stderr",
     "output_type": "stream",
     "text": [
      "100%|████████████████████████████████████████████████████████████████████| 200/200 [00:15<00:00, 12.82it/s]\n"
     ]
    },
    {
     "name": "stdout",
     "output_type": "stream",
     "text": [
      " Epoch 1: Label Accuracy is 10.422499656677246% Color Accuracy is 45.95750045776367%\n",
      " Epoch 1: Loss is 1511.1656494140625\n"
     ]
    },
    {
     "name": "stderr",
     "output_type": "stream",
     "text": [
      "100%|████████████████████████████████████████████████████████████████████| 200/200 [00:14<00:00, 13.98it/s]\n"
     ]
    },
    {
     "name": "stdout",
     "output_type": "stream",
     "text": [
      " Epoch 2: Label Accuracy is 11.0625% Color Accuracy is 48.09499740600586%\n",
      " Epoch 2: Loss is 1518.0875244140625\n"
     ]
    },
    {
     "name": "stderr",
     "output_type": "stream",
     "text": [
      "100%|████████████████████████████████████████████████████████████████████| 200/200 [00:15<00:00, 12.59it/s]\n"
     ]
    },
    {
     "name": "stdout",
     "output_type": "stream",
     "text": [
      " Epoch 3: Label Accuracy is 10.782499313354492% Color Accuracy is 48.09499740600586%\n",
      " Epoch 3: Loss is 1482.088134765625\n"
     ]
    },
    {
     "name": "stderr",
     "output_type": "stream",
     "text": [
      "100%|████████████████████████████████████████████████████████████████████| 200/200 [00:15<00:00, 13.12it/s]\n"
     ]
    },
    {
     "name": "stdout",
     "output_type": "stream",
     "text": [
      " Epoch 4: Label Accuracy is 10.97249984741211% Color Accuracy is 48.38249969482422%\n",
      " Epoch 4: Loss is 1487.0694580078125\n"
     ]
    },
    {
     "name": "stderr",
     "output_type": "stream",
     "text": [
      "100%|████████████████████████████████████████████████████████████████████| 200/200 [00:12<00:00, 15.51it/s]\n"
     ]
    },
    {
     "name": "stdout",
     "output_type": "stream",
     "text": [
      " Epoch 5: Label Accuracy is 10.764999389648438% Color Accuracy is 48.60499954223633%\n",
      " Epoch 5: Loss is 1510.6129150390625\n"
     ]
    },
    {
     "name": "stderr",
     "output_type": "stream",
     "text": [
      "100%|████████████████████████████████████████████████████████████████████| 200/200 [00:14<00:00, 13.95it/s]\n"
     ]
    },
    {
     "name": "stdout",
     "output_type": "stream",
     "text": [
      " Epoch 6: Label Accuracy is 11.204999923706055% Color Accuracy is 48.35749816894531%\n",
      " Epoch 6: Loss is 1454.8858642578125\n"
     ]
    },
    {
     "name": "stderr",
     "output_type": "stream",
     "text": [
      "100%|████████████████████████████████████████████████████████████████████| 200/200 [00:15<00:00, 12.97it/s]\n"
     ]
    },
    {
     "name": "stdout",
     "output_type": "stream",
     "text": [
      " Epoch 7: Label Accuracy is 10.867499351501465% Color Accuracy is 47.8125%\n",
      " Epoch 7: Loss is 1455.0364990234375\n"
     ]
    },
    {
     "name": "stderr",
     "output_type": "stream",
     "text": [
      "100%|████████████████████████████████████████████████████████████████████| 200/200 [00:13<00:00, 15.22it/s]\n"
     ]
    },
    {
     "name": "stdout",
     "output_type": "stream",
     "text": [
      " Epoch 8: Label Accuracy is 10.984999656677246% Color Accuracy is 47.77499771118164%\n",
      " Epoch 8: Loss is 1445.1629638671875\n"
     ]
    },
    {
     "name": "stderr",
     "output_type": "stream",
     "text": [
      "100%|████████████████████████████████████████████████████████████████████| 200/200 [00:13<00:00, 14.44it/s]\n"
     ]
    },
    {
     "name": "stdout",
     "output_type": "stream",
     "text": [
      " Epoch 9: Label Accuracy is 10.862500190734863% Color Accuracy is 47.21999740600586%\n",
      " Epoch 9: Loss is 1445.1324462890625\n"
     ]
    },
    {
     "name": "stderr",
     "output_type": "stream",
     "text": [
      "100%|████████████████████████████████████████████████████████████████████| 200/200 [00:16<00:00, 12.21it/s]\n"
     ]
    },
    {
     "name": "stdout",
     "output_type": "stream",
     "text": [
      " Epoch 10: Label Accuracy is 10.46500015258789% Color Accuracy is 47.74749755859375%\n",
      " Epoch 10: Loss is 1400.0697021484375\n"
     ]
    },
    {
     "data": {
      "image/png": "[encoded data removed]",
      "text/plain": [
       "<Figure size 648x324 with 18 Axes>"
      ]
     },
     "metadata": {},
     "output_type": "display_data"
    },
    {
     "name": "stderr",
     "output_type": "stream",
     "text": [
      "100%|████████████████████████████████████████████████████████████████████| 200/200 [00:13<00:00, 14.54it/s]\n"
     ]
    },
    {
     "name": "stdout",
     "output_type": "stream",
     "text": [
      " Epoch 11: Label Accuracy is 10.782499313354492% Color Accuracy is 48.15250015258789%\n",
      " Epoch 11: Loss is 1458.4287109375\n"
     ]
    },
    {
     "name": "stderr",
     "output_type": "stream",
     "text": [
      "100%|████████████████████████████████████████████████████████████████████| 200/200 [00:14<00:00, 13.45it/s]\n"
     ]
    },
    {
     "name": "stdout",
     "output_type": "stream",
     "text": [
      " Epoch 12: Label Accuracy is 11.054999351501465% Color Accuracy is 47.39500045776367%\n",
      " Epoch 12: Loss is 1371.564453125\n"
     ]
    },
    {
     "name": "stderr",
     "output_type": "stream",
     "text": [
      "100%|████████████████████████████████████████████████████████████████████| 200/200 [00:14<00:00, 13.40it/s]\n"
     ]
    },
    {
     "name": "stdout",
     "output_type": "stream",
     "text": [
      " Epoch 13: Label Accuracy is 10.942500114440918% Color Accuracy is 47.63750076293945%\n",
      " Epoch 13: Loss is 1433.873046875\n"
     ]
    },
    {
     "name": "stderr",
     "output_type": "stream",
     "text": [
      "100%|████████████████████████████████████████████████████████████████████| 200/200 [00:15<00:00, 12.84it/s]\n"
     ]
    },
    {
     "name": "stdout",
     "output_type": "stream",
     "text": [
      " Epoch 14: Label Accuracy is 10.682499885559082% Color Accuracy is 46.682498931884766%\n",
      " Epoch 14: Loss is 1407.8582763671875\n"
     ]
    },
    {
     "name": "stderr",
     "output_type": "stream",
     "text": [
      "100%|████████████████████████████████████████████████████████████████████| 200/200 [00:15<00:00, 13.28it/s]\n"
     ]
    },
    {
     "name": "stdout",
     "output_type": "stream",
     "text": [
      " Epoch 15: Label Accuracy is 10.672499656677246% Color Accuracy is 47.6349983215332%\n",
      " Epoch 15: Loss is 1402.1246337890625\n"
     ]
    },
    {
     "name": "stderr",
     "output_type": "stream",
     "text": [
      "100%|████████████████████████████████████████████████████████████████████| 200/200 [00:15<00:00, 13.23it/s]\n"
     ]
    },
    {
     "name": "stdout",
     "output_type": "stream",
     "text": [
      " Epoch 16: Label Accuracy is 11.052499771118164% Color Accuracy is 47.33250045776367%\n",
      " Epoch 16: Loss is 1436.6458740234375\n"
     ]
    },
    {
     "name": "stderr",
     "output_type": "stream",
     "text": [
      "100%|████████████████████████████████████████████████████████████████████| 200/200 [00:14<00:00, 13.48it/s]\n"
     ]
    },
    {
     "name": "stdout",
     "output_type": "stream",
     "text": [
      " Epoch 17: Label Accuracy is 10.880000114440918% Color Accuracy is 47.47749710083008%\n",
      " Epoch 17: Loss is 1369.9140625\n"
     ]
    },
    {
     "name": "stderr",
     "output_type": "stream",
     "text": [
      "100%|████████████████████████████████████████████████████████████████████| 200/200 [00:15<00:00, 12.90it/s]\n"
     ]
    },
    {
     "name": "stdout",
     "output_type": "stream",
     "text": [
      " Epoch 18: Label Accuracy is 11.079999923706055% Color Accuracy is 46.95750045776367%\n",
      " Epoch 18: Loss is 1368.4549560546875\n"
     ]
    },
    {
     "name": "stderr",
     "output_type": "stream",
     "text": [
      "100%|████████████████████████████████████████████████████████████████████| 200/200 [00:15<00:00, 12.57it/s]\n"
     ]
    },
    {
     "name": "stdout",
     "output_type": "stream",
     "text": [
      " Epoch 19: Label Accuracy is 10.9375% Color Accuracy is 47.45750045776367%\n",
      " Epoch 19: Loss is 1401.8026123046875\n"
     ]
    },
    {
     "name": "stderr",
     "output_type": "stream",
     "text": [
      "100%|████████████████████████████████████████████████████████████████████| 200/200 [00:15<00:00, 13.02it/s]\n"
     ]
    },
    {
     "name": "stdout",
     "output_type": "stream",
     "text": [
      " Epoch 20: Label Accuracy is 10.979999542236328% Color Accuracy is 47.404998779296875%\n",
      " Epoch 20: Loss is 1349.4171142578125\n"
     ]
    },
    {
     "data": {
      "image/png": "[encoded data removed]",
      "text/plain": [
       "<Figure size 648x324 with 18 Axes>"
      ]
     },
     "metadata": {},
     "output_type": "display_data"
    },
    {
     "name": "stderr",
     "output_type": "stream",
     "text": [
      "100%|████████████████████████████████████████████████████████████████████| 200/200 [00:14<00:00, 14.16it/s]\n"
     ]
    },
    {
     "name": "stdout",
     "output_type": "stream",
     "text": [
      " Epoch 21: Label Accuracy is 10.822500228881836% Color Accuracy is 47.52750015258789%\n",
      " Epoch 21: Loss is 1390.338134765625\n"
     ]
    },
    {
     "name": "stderr",
     "output_type": "stream",
     "text": [
      "100%|████████████████████████████████████████████████████████████████████| 200/200 [00:15<00:00, 12.60it/s]\n"
     ]
    },
    {
     "name": "stdout",
     "output_type": "stream",
     "text": [
      " Epoch 22: Label Accuracy is 10.667499542236328% Color Accuracy is 46.99250030517578%\n",
      " Epoch 22: Loss is 1411.6246337890625\n"
     ]
    },
    {
     "name": "stderr",
     "output_type": "stream",
     "text": [
      "100%|████████████████████████████████████████████████████████████████████| 200/200 [00:14<00:00, 13.67it/s]\n"
     ]
    },
    {
     "name": "stdout",
     "output_type": "stream",
     "text": [
      " Epoch 23: Label Accuracy is 10.672499656677246% Color Accuracy is 47.502498626708984%\n",
      " Epoch 23: Loss is 1365.654052734375\n"
     ]
    },
    {
     "name": "stderr",
     "output_type": "stream",
     "text": [
      "100%|████████████████████████████████████████████████████████████████████| 200/200 [00:14<00:00, 13.67it/s]\n"
     ]
    },
    {
     "name": "stdout",
     "output_type": "stream",
     "text": [
      " Epoch 24: Label Accuracy is 11.047499656677246% Color Accuracy is 47.05249786376953%\n",
      " Epoch 24: Loss is 1413.8468017578125\n"
     ]
    },
    {
     "name": "stderr",
     "output_type": "stream",
     "text": [
      "100%|████████████████████████████████████████████████████████████████████| 200/200 [00:14<00:00, 13.72it/s]\n"
     ]
    },
    {
     "name": "stdout",
     "output_type": "stream",
     "text": [
      " Epoch 25: Label Accuracy is 10.602499961853027% Color Accuracy is 47.68000030517578%\n",
      " Epoch 25: Loss is 1442.5023193359375\n"
     ]
    },
    {
     "name": "stderr",
     "output_type": "stream",
     "text": [
      "100%|████████████████████████████████████████████████████████████████████| 200/200 [00:15<00:00, 12.60it/s]\n"
     ]
    },
    {
     "name": "stdout",
     "output_type": "stream",
     "text": [
      " Epoch 26: Label Accuracy is 10.697500228881836% Color Accuracy is 47.59499740600586%\n",
      " Epoch 26: Loss is 1372.408935546875\n"
     ]
    },
    {
     "name": "stderr",
     "output_type": "stream",
     "text": [
      "100%|████████████████████████████████████████████████████████████████████| 200/200 [00:15<00:00, 12.83it/s]\n"
     ]
    },
    {
     "name": "stdout",
     "output_type": "stream",
     "text": [
      " Epoch 27: Label Accuracy is 10.78499984741211% Color Accuracy is 47.40749740600586%\n",
      " Epoch 27: Loss is 1350.2685546875\n"
     ]
    },
    {
     "name": "stderr",
     "output_type": "stream",
     "text": [
      "100%|████████████████████████████████████████████████████████████████████| 200/200 [00:15<00:00, 12.61it/s]\n"
     ]
    },
    {
     "name": "stdout",
     "output_type": "stream",
     "text": [
      " Epoch 28: Label Accuracy is 10.692500114440918% Color Accuracy is 47.25%\n",
      " Epoch 28: Loss is 1371.791259765625\n"
     ]
    },
    {
     "name": "stderr",
     "output_type": "stream",
     "text": [
      "100%|████████████████████████████████████████████████████████████████████| 200/200 [00:16<00:00, 12.21it/s]\n"
     ]
    },
    {
     "name": "stdout",
     "output_type": "stream",
     "text": [
      " Epoch 29: Label Accuracy is 10.867499351501465% Color Accuracy is 46.94499969482422%\n",
      " Epoch 29: Loss is 1348.4056396484375\n"
     ]
    },
    {
     "name": "stderr",
     "output_type": "stream",
     "text": [
      "100%|████████████████████████████████████████████████████████████████████| 200/200 [00:14<00:00, 13.56it/s]\n"
     ]
    },
    {
     "name": "stdout",
     "output_type": "stream",
     "text": [
      " Epoch 30: Label Accuracy is 10.677499771118164% Color Accuracy is 47.59000015258789%\n",
      " Epoch 30: Loss is 1340.1090087890625\n"
     ]
    },
    {
     "data": {
      "image/png": "[encoded data removed]",
      "text/plain": [
       "<Figure size 648x324 with 18 Axes>"
      ]
     },
     "metadata": {},
     "output_type": "display_data"
    },
    {
     "name": "stderr",
     "output_type": "stream",
     "text": [
      "100%|████████████████████████████████████████████████████████████████████| 200/200 [00:13<00:00, 14.42it/s]\n"
     ]
    },
    {
     "name": "stdout",
     "output_type": "stream",
     "text": [
      " Epoch 31: Label Accuracy is 10.767499923706055% Color Accuracy is 47.32500076293945%\n",
      " Epoch 31: Loss is 1397.60107421875\n"
     ]
    },
    {
     "name": "stderr",
     "output_type": "stream",
     "text": [
      "100%|████████████████████████████████████████████████████████████████████| 200/200 [00:15<00:00, 12.72it/s]\n"
     ]
    },
    {
     "name": "stdout",
     "output_type": "stream",
     "text": [
      " Epoch 32: Label Accuracy is 10.567500114440918% Color Accuracy is 47.70000076293945%\n",
      " Epoch 32: Loss is 1371.7572021484375\n"
     ]
    },
    {
     "name": "stderr",
     "output_type": "stream",
     "text": [
      "100%|████████████████████████████████████████████████████████████████████| 200/200 [00:13<00:00, 14.38it/s]\n"
     ]
    },
    {
     "name": "stdout",
     "output_type": "stream",
     "text": [
      " Epoch 33: Label Accuracy is 11.03749942779541% Color Accuracy is 47.47999954223633%\n",
      " Epoch 33: Loss is 1401.966064453125\n"
     ]
    },
    {
     "name": "stderr",
     "output_type": "stream",
     "text": [
      "100%|████████████████████████████████████████████████████████████████████| 200/200 [00:15<00:00, 12.88it/s]\n"
     ]
    },
    {
     "name": "stdout",
     "output_type": "stream",
     "text": [
      " Epoch 34: Label Accuracy is 10.764999389648438% Color Accuracy is 47.42499923706055%\n",
      " Epoch 34: Loss is 1404.7437744140625\n"
     ]
    },
    {
     "name": "stderr",
     "output_type": "stream",
     "text": [
      "100%|████████████████████████████████████████████████████████████████████| 200/200 [00:15<00:00, 12.89it/s]\n"
     ]
    },
    {
     "name": "stdout",
     "output_type": "stream",
     "text": [
      " Epoch 35: Label Accuracy is 10.837499618530273% Color Accuracy is 47.73249816894531%\n",
      " Epoch 35: Loss is 1381.7908935546875\n"
     ]
    },
    {
     "name": "stderr",
     "output_type": "stream",
     "text": [
      "100%|████████████████████████████████████████████████████████████████████| 200/200 [00:14<00:00, 13.90it/s]\n"
     ]
    },
    {
     "name": "stdout",
     "output_type": "stream",
     "text": [
      " Epoch 36: Label Accuracy is 10.6899995803833% Color Accuracy is 47.23249816894531%\n",
      " Epoch 36: Loss is 1323.2784423828125\n"
     ]
    },
    {
     "name": "stderr",
     "output_type": "stream",
     "text": [
      "100%|████████████████████████████████████████████████████████████████████| 200/200 [00:16<00:00, 12.08it/s]\n"
     ]
    },
    {
     "name": "stdout",
     "output_type": "stream",
     "text": [
      " Epoch 37: Label Accuracy is 10.982500076293945% Color Accuracy is 47.48249816894531%\n",
      " Epoch 37: Loss is 1425.8331298828125\n"
     ]
    },
    {
     "name": "stderr",
     "output_type": "stream",
     "text": [
      "100%|████████████████████████████████████████████████████████████████████| 200/200 [00:15<00:00, 13.07it/s]\n"
     ]
    },
    {
     "name": "stdout",
     "output_type": "stream",
     "text": [
      " Epoch 38: Label Accuracy is 10.637499809265137% Color Accuracy is 47.1974983215332%\n",
      " Epoch 38: Loss is 1390.716552734375\n"
     ]
    },
    {
     "name": "stderr",
     "output_type": "stream",
     "text": [
      "100%|████████████████████████████████████████████████████████████████████| 200/200 [00:14<00:00, 14.00it/s]\n"
     ]
    },
    {
     "name": "stdout",
     "output_type": "stream",
     "text": [
      " Epoch 39: Label Accuracy is 10.772500038146973% Color Accuracy is 46.86249923706055%\n",
      " Epoch 39: Loss is 1397.4815673828125\n"
     ]
    },
    {
     "name": "stderr",
     "output_type": "stream",
     "text": [
      "100%|████████████████████████████████████████████████████████████████████| 200/200 [00:14<00:00, 13.62it/s]\n"
     ]
    },
    {
     "name": "stdout",
     "output_type": "stream",
     "text": [
      " Epoch 40: Label Accuracy is 11.010000228881836% Color Accuracy is 47.8849983215332%\n",
      " Epoch 40: Loss is 1375.023193359375\n"
     ]
    },
    {
     "data": {
      "image/png": "[encoded data removed]",
      "text/plain": [
       "<Figure size 648x324 with 18 Axes>"
      ]
     },
     "metadata": {},
     "output_type": "display_data"
    },
    {
     "name": "stderr",
     "output_type": "stream",
     "text": [
      "100%|████████████████████████████████████████████████████████████████████| 200/200 [00:15<00:00, 13.16it/s]\n"
     ]
    },
    {
     "name": "stdout",
     "output_type": "stream",
     "text": [
      " Epoch 41: Label Accuracy is 10.774999618530273% Color Accuracy is 47.1875%\n",
      " Epoch 41: Loss is 1395.4622802734375\n"
     ]
    },
    {
     "name": "stderr",
     "output_type": "stream",
     "text": [
      "100%|████████████████████████████████████████████████████████████████████| 200/200 [00:15<00:00, 12.78it/s]\n"
     ]
    },
    {
     "name": "stdout",
     "output_type": "stream",
     "text": [
      " Epoch 42: Label Accuracy is 10.795000076293945% Color Accuracy is 47.70249938964844%\n",
      " Epoch 42: Loss is 1310.9493408203125\n"
     ]
    },
    {
     "name": "stderr",
     "output_type": "stream",
     "text": [
      "100%|████████████████████████████████████████████████████████████████████| 200/200 [00:16<00:00, 12.23it/s]\n"
     ]
    },
    {
     "name": "stdout",
     "output_type": "stream",
     "text": [
      " Epoch 43: Label Accuracy is 10.880000114440918% Color Accuracy is 47.744998931884766%\n",
      " Epoch 43: Loss is 1367.551025390625\n"
     ]
    },
    {
     "name": "stderr",
     "output_type": "stream",
     "text": [
      "100%|████████████████████████████████████████████████████████████████████| 200/200 [00:15<00:00, 13.09it/s]\n"
     ]
    },
    {
     "name": "stdout",
     "output_type": "stream",
     "text": [
      " Epoch 44: Label Accuracy is 10.677499771118164% Color Accuracy is 47.02000045776367%\n",
      " Epoch 44: Loss is 1359.5653076171875\n"
     ]
    },
    {
     "name": "stderr",
     "output_type": "stream",
     "text": [
      "100%|████████████████████████████████████████████████████████████████████| 200/200 [00:14<00:00, 13.79it/s]\n"
     ]
    },
    {
     "name": "stdout",
     "output_type": "stream",
     "text": [
      " Epoch 45: Label Accuracy is 10.789999961853027% Color Accuracy is 47.31999969482422%\n",
      " Epoch 45: Loss is 1380.53564453125\n"
     ]
    },
    {
     "name": "stderr",
     "output_type": "stream",
     "text": [
      "100%|████████████████████████████████████████████████████████████████████| 200/200 [00:15<00:00, 13.30it/s]\n"
     ]
    },
    {
     "name": "stdout",
     "output_type": "stream",
     "text": [
      " Epoch 46: Label Accuracy is 10.679999351501465% Color Accuracy is 47.0724983215332%\n",
      " Epoch 46: Loss is 1345.675537109375\n"
     ]
    },
    {
     "name": "stderr",
     "output_type": "stream",
     "text": [
      "100%|████████████████████████████████████████████████████████████████████| 200/200 [00:14<00:00, 13.33it/s]\n"
     ]
    },
    {
     "name": "stdout",
     "output_type": "stream",
     "text": [
      " Epoch 47: Label Accuracy is 10.934999465942383% Color Accuracy is 46.82749938964844%\n",
      " Epoch 47: Loss is 1306.3082275390625\n"
     ]
    },
    {
     "name": "stderr",
     "output_type": "stream",
     "text": [
      "100%|████████████████████████████████████████████████████████████████████| 200/200 [00:15<00:00, 13.28it/s]\n"
     ]
    },
    {
     "name": "stdout",
     "output_type": "stream",
     "text": [
      " Epoch 48: Label Accuracy is 10.699999809265137% Color Accuracy is 47.119998931884766%\n",
      " Epoch 48: Loss is 1388.689453125\n"
     ]
    },
    {
     "name": "stderr",
     "output_type": "stream",
     "text": [
      "100%|████████████████████████████████████████████████████████████████████| 200/200 [00:16<00:00, 11.86it/s]\n"
     ]
    },
    {
     "name": "stdout",
     "output_type": "stream",
     "text": [
      " Epoch 49: Label Accuracy is 10.682499885559082% Color Accuracy is 47.3125%\n",
      " Epoch 49: Loss is 1357.4583740234375\n"
     ]
    },
    {
     "name": "stderr",
     "output_type": "stream",
     "text": [
      "100%|████████████████████████████████████████████████████████████████████| 200/200 [00:15<00:00, 13.05it/s]\n"
     ]
    },
    {
     "name": "stdout",
     "output_type": "stream",
     "text": [
      " Epoch 50: Label Accuracy is 10.772500038146973% Color Accuracy is 46.91999816894531%\n",
      " Epoch 50: Loss is 1363.2913818359375\n"
     ]
    },
    {
     "data": {
      "image/png": "[encoded data removed]",
      "text/plain": [
       "<Figure size 648x324 with 18 Axes>"
      ]
     },
     "metadata": {},
     "output_type": "display_data"
    },
    {
     "name": "stderr",
     "output_type": "stream",
     "text": [
      "100%|████████████████████████████████████████████████████████████████████| 200/200 [00:16<00:00, 12.28it/s]\n"
     ]
    },
    {
     "name": "stdout",
     "output_type": "stream",
     "text": [
      " Epoch 51: Label Accuracy is 10.727499961853027% Color Accuracy is 47.60249710083008%\n",
      " Epoch 51: Loss is 1372.88232421875\n"
     ]
    },
    {
     "name": "stderr",
     "output_type": "stream",
     "text": [
      "100%|████████████████████████████████████████████████████████████████████| 200/200 [00:13<00:00, 14.44it/s]\n"
     ]
    },
    {
     "name": "stdout",
     "output_type": "stream",
     "text": [
      " Epoch 52: Label Accuracy is 10.894999504089355% Color Accuracy is 46.869998931884766%\n",
      " Epoch 52: Loss is 1378.64501953125\n"
     ]
    },
    {
     "name": "stderr",
     "output_type": "stream",
     "text": [
      "100%|████████████████████████████████████████████████████████████████████| 200/200 [00:15<00:00, 13.20it/s]\n"
     ]
    },
    {
     "name": "stdout",
     "output_type": "stream",
     "text": [
      " Epoch 53: Label Accuracy is 10.654999732971191% Color Accuracy is 47.38999938964844%\n",
      " Epoch 53: Loss is 1371.44140625\n"
     ]
    },
    {
     "name": "stderr",
     "output_type": "stream",
     "text": [
      "100%|████████████████████████████████████████████████████████████████████| 200/200 [00:15<00:00, 12.95it/s]\n"
     ]
    },
    {
     "name": "stdout",
     "output_type": "stream",
     "text": [
      " Epoch 54: Label Accuracy is 10.802499771118164% Color Accuracy is 46.807498931884766%\n",
      " Epoch 54: Loss is 1362.6781005859375\n"
     ]
    },
    {
     "name": "stderr",
     "output_type": "stream",
     "text": [
      " 82%|███████████████████████████████████████████████████████▊            | 164/200 [00:12<00:03, 10.77it/s]"
     ]
    }
   ],
   "source": [
    "%run /home/xzhoubi/hudson/VAE_baselines/train_mnist.py --z_dim 100 --epochs 200 --architecture dense_vae --data_set ColoredMNIST --x_dis Logistic --alpha 0 \n",
    "\n"
   ]
  },
  {
   "cell_type": "code",
   "execution_count": null,
   "id": "c2946d90-22c8-4ef8-8e59-78d5e85547d4",
   "metadata": {},
   "outputs": [],
   "source": []
  }
 ],
 "metadata": {
  "kernelspec": {
   "display_name": "vcl",
   "language": "python",
   "name": "vcl"
  },
  "language_info": {
   "codemirror_mode": {
    "name": "ipython",
    "version": 3
   },
   "file_extension": ".py",
   "mimetype": "text/x-python",
   "name": "python",
   "nbconvert_exporter": "python",
   "pygments_lexer": "ipython3",
   "version": "3.8.11"
  }
 },
 "nbformat": 4,
 "nbformat_minor": 5
}
