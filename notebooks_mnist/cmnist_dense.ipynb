{
 "cells": [
  {
   "cell_type": "code",
   "execution_count": 1,
   "id": "1f02bda3-84c7-4b80-9b9e-11df9d6c6357",
   "metadata": {},
   "outputs": [
    {
     "name": "stdout",
     "output_type": "stream",
     "text": [
      "/import/home/xzhoubi/hudson/VAE_baselines\n",
      "Colored MNIST dataset already exists\n",
      "Colored MNIST dataset already exists\n"
     ]
    },
    {
     "name": "stderr",
     "output_type": "stream",
     "text": [
      "  0%|                                                                              | 0/200 [00:00<?, ?it/s]/home/xzhoubi/hudson/miniconda3/envs/vcl/lib/python3.8/site-packages/torch/nn/modules/container.py:139: UserWarning: Implicit dimension choice for softmax has been deprecated. Change the call to include dim=X as an argument.\n",
      "  input = module(input)\n",
      "100%|████████████████████████████████████████████████████████████████████| 200/200 [00:15<00:00, 13.13it/s]\n"
     ]
    },
    {
     "name": "stdout",
     "output_type": "stream",
     "text": [
      " Epoch 0: Label Accuracy is 49.93499755859375% Color Accuracy is 97.88249969482422%\n",
      " Epoch 0: Loss is 1686.4166259765625\n"
     ]
    },
    {
     "data": {
      "image/png": "[encoded data removed]",
      "text/plain": [
       "<Figure size 648x324 with 18 Axes>"
      ]
     },
     "metadata": {},
     "output_type": "display_data"
    },
    {
     "name": "stderr",
     "output_type": "stream",
     "text": [
      "100%|████████████████████████████████████████████████████████████████████| 200/200 [00:13<00:00, 14.39it/s]\n"
     ]
    },
    {
     "name": "stdout",
     "output_type": "stream",
     "text": [
      " Epoch 1: Label Accuracy is 70.22750091552734% Color Accuracy is 99.55500030517578%\n",
      " Epoch 1: Loss is 1511.4095458984375\n"
     ]
    },
    {
     "name": "stderr",
     "output_type": "stream",
     "text": [
      "100%|████████████████████████████████████████████████████████████████████| 200/200 [00:15<00:00, 12.81it/s]\n"
     ]
    },
    {
     "name": "stdout",
     "output_type": "stream",
     "text": [
      " Epoch 2: Label Accuracy is 71.73249816894531% Color Accuracy is 99.70499420166016%\n",
      " Epoch 2: Loss is 1523.8892822265625\n"
     ]
    },
    {
     "name": "stderr",
     "output_type": "stream",
     "text": [
      "100%|████████████████████████████████████████████████████████████████████| 200/200 [00:14<00:00, 13.55it/s]\n"
     ]
    },
    {
     "name": "stdout",
     "output_type": "stream",
     "text": [
      " Epoch 3: Label Accuracy is 73.45249938964844% Color Accuracy is 99.81999969482422%\n",
      " Epoch 3: Loss is 1490.63671875\n"
     ]
    },
    {
     "name": "stderr",
     "output_type": "stream",
     "text": [
      "100%|████████████████████████████████████████████████████████████████████| 200/200 [00:14<00:00, 13.99it/s]\n"
     ]
    },
    {
     "name": "stdout",
     "output_type": "stream",
     "text": [
      " Epoch 4: Label Accuracy is 74.46499633789062% Color Accuracy is 99.89249420166016%\n",
      " Epoch 4: Loss is 1491.83837890625\n"
     ]
    },
    {
     "name": "stderr",
     "output_type": "stream",
     "text": [
      "100%|████████████████████████████████████████████████████████████████████| 200/200 [00:17<00:00, 11.67it/s]\n"
     ]
    },
    {
     "name": "stdout",
     "output_type": "stream",
     "text": [
      " Epoch 5: Label Accuracy is 75.33499908447266% Color Accuracy is 99.91500091552734%\n",
      " Epoch 5: Loss is 1518.27880859375\n"
     ]
    },
    {
     "name": "stderr",
     "output_type": "stream",
     "text": [
      "100%|████████████████████████████████████████████████████████████████████| 200/200 [00:14<00:00, 13.51it/s]\n"
     ]
    },
    {
     "name": "stdout",
     "output_type": "stream",
     "text": [
      " Epoch 6: Label Accuracy is 75.38749694824219% Color Accuracy is 99.93999481201172%\n",
      " Epoch 6: Loss is 1457.841796875\n"
     ]
    },
    {
     "name": "stderr",
     "output_type": "stream",
     "text": [
      "100%|████████████████████████████████████████████████████████████████████| 200/200 [00:15<00:00, 13.10it/s]\n"
     ]
    },
    {
     "name": "stdout",
     "output_type": "stream",
     "text": [
      " Epoch 7: Label Accuracy is 75.74749755859375% Color Accuracy is 99.9574966430664%\n",
      " Epoch 7: Loss is 1462.538818359375\n"
     ]
    },
    {
     "name": "stderr",
     "output_type": "stream",
     "text": [
      "100%|████████████████████████████████████████████████████████████████████| 200/200 [00:15<00:00, 13.20it/s]\n"
     ]
    },
    {
     "name": "stdout",
     "output_type": "stream",
     "text": [
      " Epoch 8: Label Accuracy is 75.68499755859375% Color Accuracy is 99.9749984741211%\n",
      " Epoch 8: Loss is 1451.8856201171875\n"
     ]
    },
    {
     "name": "stderr",
     "output_type": "stream",
     "text": [
      "100%|████████████████████████████████████████████████████████████████████| 200/200 [00:14<00:00, 13.37it/s]\n"
     ]
    },
    {
     "name": "stdout",
     "output_type": "stream",
     "text": [
      " Epoch 9: Label Accuracy is 76.27749633789062% Color Accuracy is 99.99250030517578%\n",
      " Epoch 9: Loss is 1447.6776123046875\n"
     ]
    },
    {
     "name": "stderr",
     "output_type": "stream",
     "text": [
      "100%|████████████████████████████████████████████████████████████████████| 200/200 [00:14<00:00, 13.88it/s]\n"
     ]
    },
    {
     "name": "stdout",
     "output_type": "stream",
     "text": [
      " Epoch 10: Label Accuracy is 76.62749481201172% Color Accuracy is 99.99749755859375%\n",
      " Epoch 10: Loss is 1402.7794189453125\n"
     ]
    },
    {
     "data": {
      "image/png": "[encoded data removed]",
      "text/plain": [
       "<Figure size 648x324 with 18 Axes>"
      ]
     },
     "metadata": {},
     "output_type": "display_data"
    },
    {
     "name": "stderr",
     "output_type": "stream",
     "text": [
      "100%|████████████████████████████████████████████████████████████████████| 200/200 [00:13<00:00, 14.98it/s]\n"
     ]
    },
    {
     "name": "stdout",
     "output_type": "stream",
     "text": [
      " Epoch 11: Label Accuracy is 76.6199951171875% Color Accuracy is 99.99749755859375%\n",
      " Epoch 11: Loss is 1458.326416015625\n"
     ]
    },
    {
     "name": "stderr",
     "output_type": "stream",
     "text": [
      "100%|████████████████████████████████████████████████████████████████████| 200/200 [00:15<00:00, 13.30it/s]\n"
     ]
    },
    {
     "name": "stdout",
     "output_type": "stream",
     "text": [
      " Epoch 12: Label Accuracy is 76.6624984741211% Color Accuracy is 100.0%\n",
      " Epoch 12: Loss is 1368.2520751953125\n"
     ]
    },
    {
     "name": "stderr",
     "output_type": "stream",
     "text": [
      "100%|████████████████████████████████████████████████████████████████████| 200/200 [00:12<00:00, 15.89it/s]\n"
     ]
    },
    {
     "name": "stdout",
     "output_type": "stream",
     "text": [
      " Epoch 13: Label Accuracy is 76.82499694824219% Color Accuracy is 99.99749755859375%\n",
      " Epoch 13: Loss is 1437.8714599609375\n"
     ]
    },
    {
     "name": "stderr",
     "output_type": "stream",
     "text": [
      "100%|████████████████████████████████████████████████████████████████████| 200/200 [00:15<00:00, 12.99it/s]\n"
     ]
    },
    {
     "name": "stdout",
     "output_type": "stream",
     "text": [
      " Epoch 14: Label Accuracy is 76.54499816894531% Color Accuracy is 100.0%\n",
      " Epoch 14: Loss is 1411.2520751953125\n"
     ]
    },
    {
     "name": "stderr",
     "output_type": "stream",
     "text": [
      "100%|████████████████████████████████████████████████████████████████████| 200/200 [00:13<00:00, 15.30it/s]\n"
     ]
    },
    {
     "name": "stdout",
     "output_type": "stream",
     "text": [
      " Epoch 15: Label Accuracy is 76.89749908447266% Color Accuracy is 99.99749755859375%\n",
      " Epoch 15: Loss is 1402.4591064453125\n"
     ]
    },
    {
     "name": "stderr",
     "output_type": "stream",
     "text": [
      "100%|████████████████████████████████████████████████████████████████████| 200/200 [00:13<00:00, 14.97it/s]\n"
     ]
    },
    {
     "name": "stdout",
     "output_type": "stream",
     "text": [
      " Epoch 16: Label Accuracy is 76.6875% Color Accuracy is 100.0%\n",
      " Epoch 16: Loss is 1433.1063232421875\n"
     ]
    },
    {
     "name": "stderr",
     "output_type": "stream",
     "text": [
      "100%|████████████████████████████████████████████████████████████████████| 200/200 [00:14<00:00, 14.10it/s]\n"
     ]
    },
    {
     "name": "stdout",
     "output_type": "stream",
     "text": [
      " Epoch 17: Label Accuracy is 76.69749450683594% Color Accuracy is 100.0%\n",
      " Epoch 17: Loss is 1368.4715576171875\n"
     ]
    },
    {
     "name": "stderr",
     "output_type": "stream",
     "text": [
      "100%|████████████████████████████████████████████████████████████████████| 200/200 [00:14<00:00, 13.76it/s]\n"
     ]
    },
    {
     "name": "stdout",
     "output_type": "stream",
     "text": [
      " Epoch 18: Label Accuracy is 76.60499572753906% Color Accuracy is 100.0%\n",
      " Epoch 18: Loss is 1371.363525390625\n"
     ]
    },
    {
     "name": "stderr",
     "output_type": "stream",
     "text": [
      "100%|████████████████████████████████████████████████████████████████████| 200/200 [00:14<00:00, 13.36it/s]\n"
     ]
    },
    {
     "name": "stdout",
     "output_type": "stream",
     "text": [
      " Epoch 19: Label Accuracy is 76.93999481201172% Color Accuracy is 100.0%\n",
      " Epoch 19: Loss is 1397.8470458984375\n"
     ]
    },
    {
     "name": "stderr",
     "output_type": "stream",
     "text": [
      "100%|████████████████████████████████████████████████████████████████████| 200/200 [00:14<00:00, 13.83it/s]\n"
     ]
    },
    {
     "name": "stdout",
     "output_type": "stream",
     "text": [
      " Epoch 20: Label Accuracy is 76.77249908447266% Color Accuracy is 99.99749755859375%\n",
      " Epoch 20: Loss is 1347.7259521484375\n"
     ]
    },
    {
     "data": {
      "image/png": "[encoded data removed]",
      "text/plain": [
       "<Figure size 648x324 with 18 Axes>"
      ]
     },
     "metadata": {},
     "output_type": "display_data"
    },
    {
     "name": "stderr",
     "output_type": "stream",
     "text": [
      "100%|████████████████████████████████████████████████████████████████████| 200/200 [00:14<00:00, 13.53it/s]\n"
     ]
    },
    {
     "name": "stdout",
     "output_type": "stream",
     "text": [
      " Epoch 21: Label Accuracy is 76.8074951171875% Color Accuracy is 100.0%\n",
      " Epoch 21: Loss is 1395.2479248046875\n"
     ]
    },
    {
     "name": "stderr",
     "output_type": "stream",
     "text": [
      "100%|████████████████████████████████████████████████████████████████████| 200/200 [00:15<00:00, 13.18it/s]\n"
     ]
    },
    {
     "name": "stdout",
     "output_type": "stream",
     "text": [
      " Epoch 22: Label Accuracy is 76.84249877929688% Color Accuracy is 100.0%\n",
      " Epoch 22: Loss is 1408.8258056640625\n"
     ]
    },
    {
     "name": "stderr",
     "output_type": "stream",
     "text": [
      "100%|████████████████████████████████████████████████████████████████████| 200/200 [00:13<00:00, 14.78it/s]\n"
     ]
    },
    {
     "name": "stdout",
     "output_type": "stream",
     "text": [
      " Epoch 23: Label Accuracy is 77.01249694824219% Color Accuracy is 100.0%\n",
      " Epoch 23: Loss is 1365.6453857421875\n"
     ]
    },
    {
     "name": "stderr",
     "output_type": "stream",
     "text": [
      "100%|████████████████████████████████████████████████████████████████████| 200/200 [00:14<00:00, 13.88it/s]\n"
     ]
    },
    {
     "name": "stdout",
     "output_type": "stream",
     "text": [
      " Epoch 24: Label Accuracy is 76.86750030517578% Color Accuracy is 100.0%\n",
      " Epoch 24: Loss is 1414.6322021484375\n"
     ]
    },
    {
     "name": "stderr",
     "output_type": "stream",
     "text": [
      "100%|████████████████████████████████████████████████████████████████████| 200/200 [00:16<00:00, 12.42it/s]\n"
     ]
    },
    {
     "name": "stdout",
     "output_type": "stream",
     "text": [
      " Epoch 25: Label Accuracy is 76.93499755859375% Color Accuracy is 100.0%\n",
      " Epoch 25: Loss is 1438.2996826171875\n"
     ]
    },
    {
     "name": "stderr",
     "output_type": "stream",
     "text": [
      "100%|████████████████████████████████████████████████████████████████████| 200/200 [00:14<00:00, 13.88it/s]\n"
     ]
    },
    {
     "name": "stdout",
     "output_type": "stream",
     "text": [
      " Epoch 26: Label Accuracy is 77.02749633789062% Color Accuracy is 99.99749755859375%\n",
      " Epoch 26: Loss is 1376.0689697265625\n"
     ]
    },
    {
     "name": "stderr",
     "output_type": "stream",
     "text": [
      "100%|████████████████████████████████████████████████████████████████████| 200/200 [00:14<00:00, 13.36it/s]\n"
     ]
    },
    {
     "name": "stdout",
     "output_type": "stream",
     "text": [
      " Epoch 27: Label Accuracy is 76.96499633789062% Color Accuracy is 100.0%\n",
      " Epoch 27: Loss is 1349.897216796875\n"
     ]
    },
    {
     "name": "stderr",
     "output_type": "stream",
     "text": [
      "100%|████████████████████████████████████████████████████████████████████| 200/200 [00:15<00:00, 13.01it/s]\n"
     ]
    },
    {
     "name": "stdout",
     "output_type": "stream",
     "text": [
      " Epoch 28: Label Accuracy is 77.0374984741211% Color Accuracy is 100.0%\n",
      " Epoch 28: Loss is 1371.7635498046875\n"
     ]
    },
    {
     "name": "stderr",
     "output_type": "stream",
     "text": [
      "100%|████████████████████████████████████████████████████████████████████| 200/200 [00:14<00:00, 13.80it/s]\n"
     ]
    },
    {
     "name": "stdout",
     "output_type": "stream",
     "text": [
      " Epoch 29: Label Accuracy is 77.26750183105469% Color Accuracy is 100.0%\n",
      " Epoch 29: Loss is 1347.3162841796875\n"
     ]
    },
    {
     "name": "stderr",
     "output_type": "stream",
     "text": [
      "100%|████████████████████████████████████████████████████████████████████| 200/200 [00:14<00:00, 13.68it/s]\n"
     ]
    },
    {
     "name": "stdout",
     "output_type": "stream",
     "text": [
      " Epoch 30: Label Accuracy is 77.10499572753906% Color Accuracy is 100.0%\n",
      " Epoch 30: Loss is 1338.9202880859375\n"
     ]
    },
    {
     "data": {
      "image/png": "[encoded data removed]",
      "text/plain": [
       "<Figure size 648x324 with 18 Axes>"
      ]
     },
     "metadata": {},
     "output_type": "display_data"
    },
    {
     "name": "stderr",
     "output_type": "stream",
     "text": [
      "100%|████████████████████████████████████████████████████████████████████| 200/200 [00:14<00:00, 14.05it/s]\n"
     ]
    },
    {
     "name": "stdout",
     "output_type": "stream",
     "text": [
      " Epoch 31: Label Accuracy is 77.27999877929688% Color Accuracy is 100.0%\n",
      " Epoch 31: Loss is 1396.1405029296875\n"
     ]
    },
    {
     "name": "stderr",
     "output_type": "stream",
     "text": [
      "100%|████████████████████████████████████████████████████████████████████| 200/200 [00:14<00:00, 13.98it/s]\n"
     ]
    },
    {
     "name": "stdout",
     "output_type": "stream",
     "text": [
      " Epoch 32: Label Accuracy is 77.38749694824219% Color Accuracy is 99.99749755859375%\n",
      " Epoch 32: Loss is 1372.2412109375\n"
     ]
    },
    {
     "name": "stderr",
     "output_type": "stream",
     "text": [
      "100%|████████████████████████████████████████████████████████████████████| 200/200 [00:14<00:00, 13.60it/s]\n"
     ]
    },
    {
     "name": "stdout",
     "output_type": "stream",
     "text": [
      " Epoch 33: Label Accuracy is 77.5999984741211% Color Accuracy is 100.0%\n",
      " Epoch 33: Loss is 1398.7645263671875\n"
     ]
    },
    {
     "name": "stderr",
     "output_type": "stream",
     "text": [
      "100%|████████████████████████████████████████████████████████████████████| 200/200 [00:14<00:00, 13.71it/s]\n"
     ]
    },
    {
     "name": "stdout",
     "output_type": "stream",
     "text": [
      " Epoch 34: Label Accuracy is 77.3699951171875% Color Accuracy is 100.0%\n",
      " Epoch 34: Loss is 1400.0465087890625\n"
     ]
    },
    {
     "name": "stderr",
     "output_type": "stream",
     "text": [
      "100%|████████████████████████████████████████████████████████████████████| 200/200 [00:15<00:00, 12.88it/s]\n"
     ]
    },
    {
     "name": "stdout",
     "output_type": "stream",
     "text": [
      " Epoch 35: Label Accuracy is 77.56499481201172% Color Accuracy is 100.0%\n",
      " Epoch 35: Loss is 1377.5390625\n"
     ]
    },
    {
     "name": "stderr",
     "output_type": "stream",
     "text": [
      "100%|████████████████████████████████████████████████████████████████████| 200/200 [00:14<00:00, 13.38it/s]\n"
     ]
    },
    {
     "name": "stdout",
     "output_type": "stream",
     "text": [
      " Epoch 36: Label Accuracy is 77.7449951171875% Color Accuracy is 100.0%\n",
      " Epoch 36: Loss is 1320.0186767578125\n"
     ]
    },
    {
     "name": "stderr",
     "output_type": "stream",
     "text": [
      "100%|████████████████████████████████████████████████████████████████████| 200/200 [00:15<00:00, 12.59it/s]\n"
     ]
    },
    {
     "name": "stdout",
     "output_type": "stream",
     "text": [
      " Epoch 37: Label Accuracy is 77.75249481201172% Color Accuracy is 100.0%\n",
      " Epoch 37: Loss is 1422.2181396484375\n"
     ]
    },
    {
     "name": "stderr",
     "output_type": "stream",
     "text": [
      "100%|████████████████████████████████████████████████████████████████████| 200/200 [00:13<00:00, 14.31it/s]\n"
     ]
    },
    {
     "name": "stdout",
     "output_type": "stream",
     "text": [
      " Epoch 38: Label Accuracy is 77.97249603271484% Color Accuracy is 100.0%\n",
      " Epoch 38: Loss is 1392.1678466796875\n"
     ]
    },
    {
     "name": "stderr",
     "output_type": "stream",
     "text": [
      "100%|████████████████████████████████████████████████████████████████████| 200/200 [00:13<00:00, 14.51it/s]\n"
     ]
    },
    {
     "name": "stdout",
     "output_type": "stream",
     "text": [
      " Epoch 39: Label Accuracy is 77.85499572753906% Color Accuracy is 100.0%\n",
      " Epoch 39: Loss is 1395.3004150390625\n"
     ]
    },
    {
     "name": "stderr",
     "output_type": "stream",
     "text": [
      "100%|████████████████████████████████████████████████████████████████████| 200/200 [00:14<00:00, 13.67it/s]\n"
     ]
    },
    {
     "name": "stdout",
     "output_type": "stream",
     "text": [
      " Epoch 40: Label Accuracy is 77.9000015258789% Color Accuracy is 100.0%\n",
      " Epoch 40: Loss is 1372.4130859375\n"
     ]
    },
    {
     "data": {
      "image/png": "[encoded data removed]",
      "text/plain": [
       "<Figure size 648x324 with 18 Axes>"
      ]
     },
     "metadata": {},
     "output_type": "display_data"
    },
    {
     "name": "stderr",
     "output_type": "stream",
     "text": [
      "100%|████████████████████████████████████████████████████████████████████| 200/200 [00:15<00:00, 13.30it/s]\n"
     ]
    },
    {
     "name": "stdout",
     "output_type": "stream",
     "text": [
      " Epoch 41: Label Accuracy is 77.85250091552734% Color Accuracy is 100.0%\n",
      " Epoch 41: Loss is 1393.054443359375\n"
     ]
    },
    {
     "name": "stderr",
     "output_type": "stream",
     "text": [
      "100%|████████████████████████████████████████████████████████████████████| 200/200 [00:13<00:00, 14.51it/s]\n"
     ]
    },
    {
     "name": "stdout",
     "output_type": "stream",
     "text": [
      " Epoch 42: Label Accuracy is 77.5875015258789% Color Accuracy is 100.0%\n",
      " Epoch 42: Loss is 1312.0675048828125\n"
     ]
    },
    {
     "name": "stderr",
     "output_type": "stream",
     "text": [
      "100%|████████████████████████████████████████████████████████████████████| 200/200 [00:13<00:00, 14.83it/s]\n"
     ]
    },
    {
     "name": "stdout",
     "output_type": "stream",
     "text": [
      " Epoch 43: Label Accuracy is 77.69999694824219% Color Accuracy is 100.0%\n",
      " Epoch 43: Loss is 1368.358154296875\n"
     ]
    },
    {
     "name": "stderr",
     "output_type": "stream",
     "text": [
      "100%|████████████████████████████████████████████████████████████████████| 200/200 [00:14<00:00, 14.12it/s]\n"
     ]
    },
    {
     "name": "stdout",
     "output_type": "stream",
     "text": [
      " Epoch 44: Label Accuracy is 78.00749969482422% Color Accuracy is 100.0%\n",
      " Epoch 44: Loss is 1359.8541259765625\n"
     ]
    },
    {
     "name": "stderr",
     "output_type": "stream",
     "text": [
      "100%|████████████████████████████████████████████████████████████████████| 200/200 [00:13<00:00, 15.09it/s]\n"
     ]
    },
    {
     "name": "stdout",
     "output_type": "stream",
     "text": [
      " Epoch 45: Label Accuracy is 78.06499481201172% Color Accuracy is 100.0%\n",
      " Epoch 45: Loss is 1373.4404296875\n"
     ]
    },
    {
     "name": "stderr",
     "output_type": "stream",
     "text": [
      "100%|████████████████████████████████████████████████████████████████████| 200/200 [00:14<00:00, 13.60it/s]\n"
     ]
    },
    {
     "name": "stdout",
     "output_type": "stream",
     "text": [
      " Epoch 46: Label Accuracy is 78.1449966430664% Color Accuracy is 100.0%\n",
      " Epoch 46: Loss is 1347.0870361328125\n"
     ]
    },
    {
     "name": "stderr",
     "output_type": "stream",
     "text": [
      "100%|████████████████████████████████████████████████████████████████████| 200/200 [00:13<00:00, 14.62it/s]\n"
     ]
    },
    {
     "name": "stdout",
     "output_type": "stream",
     "text": [
      " Epoch 47: Label Accuracy is 78.04999542236328% Color Accuracy is 99.99749755859375%\n",
      " Epoch 47: Loss is 1309.555419921875\n"
     ]
    },
    {
     "name": "stderr",
     "output_type": "stream",
     "text": [
      "100%|████████████████████████████████████████████████████████████████████| 200/200 [00:13<00:00, 14.33it/s]\n"
     ]
    },
    {
     "name": "stdout",
     "output_type": "stream",
     "text": [
      " Epoch 48: Label Accuracy is 78.125% Color Accuracy is 100.0%\n",
      " Epoch 48: Loss is 1390.7032470703125\n"
     ]
    },
    {
     "name": "stderr",
     "output_type": "stream",
     "text": [
      "100%|████████████████████████████████████████████████████████████████████| 200/200 [00:13<00:00, 14.45it/s]\n"
     ]
    },
    {
     "name": "stdout",
     "output_type": "stream",
     "text": [
      " Epoch 49: Label Accuracy is 78.05249786376953% Color Accuracy is 100.0%\n",
      " Epoch 49: Loss is 1361.046630859375\n"
     ]
    },
    {
     "name": "stderr",
     "output_type": "stream",
     "text": [
      "100%|████████████████████████████████████████████████████████████████████| 200/200 [00:14<00:00, 13.44it/s]\n"
     ]
    },
    {
     "name": "stdout",
     "output_type": "stream",
     "text": [
      " Epoch 50: Label Accuracy is 78.19249725341797% Color Accuracy is 99.99749755859375%\n",
      " Epoch 50: Loss is 1363.872802734375\n"
     ]
    },
    {
     "data": {
      "image/png": "[encoded data removed]",
      "text/plain": [
       "<Figure size 648x324 with 18 Axes>"
      ]
     },
     "metadata": {},
     "output_type": "display_data"
    },
    {
     "name": "stderr",
     "output_type": "stream",
     "text": [
      "100%|████████████████████████████████████████████████████████████████████| 200/200 [00:14<00:00, 14.05it/s]\n"
     ]
    },
    {
     "name": "stdout",
     "output_type": "stream",
     "text": [
      " Epoch 51: Label Accuracy is 78.22750091552734% Color Accuracy is 99.99749755859375%\n",
      " Epoch 51: Loss is 1375.0225830078125\n"
     ]
    },
    {
     "name": "stderr",
     "output_type": "stream",
     "text": [
      "100%|████████████████████████████████████████████████████████████████████| 200/200 [00:15<00:00, 12.91it/s]\n"
     ]
    },
    {
     "name": "stdout",
     "output_type": "stream",
     "text": [
      " Epoch 52: Label Accuracy is 78.01750183105469% Color Accuracy is 100.0%\n",
      " Epoch 52: Loss is 1378.891845703125\n"
     ]
    },
    {
     "name": "stderr",
     "output_type": "stream",
     "text": [
      "100%|████████████████████████████████████████████████████████████████████| 200/200 [00:13<00:00, 14.71it/s]\n"
     ]
    },
    {
     "name": "stdout",
     "output_type": "stream",
     "text": [
      " Epoch 53: Label Accuracy is 78.13249969482422% Color Accuracy is 100.0%\n",
      " Epoch 53: Loss is 1377.958251953125\n"
     ]
    },
    {
     "name": "stderr",
     "output_type": "stream",
     "text": [
      "100%|████████████████████████████████████████████████████████████████████| 200/200 [00:15<00:00, 12.85it/s]\n"
     ]
    },
    {
     "name": "stdout",
     "output_type": "stream",
     "text": [
      " Epoch 54: Label Accuracy is 78.14250183105469% Color Accuracy is 100.0%\n",
      " Epoch 54: Loss is 1361.3651123046875\n"
     ]
    },
    {
     "name": "stderr",
     "output_type": "stream",
     "text": [
      "100%|████████████████████████████████████████████████████████████████████| 200/200 [00:13<00:00, 14.33it/s]\n"
     ]
    },
    {
     "name": "stdout",
     "output_type": "stream",
     "text": [
      " Epoch 55: Label Accuracy is 78.27749633789062% Color Accuracy is 100.0%\n",
      " Epoch 55: Loss is 1320.6795654296875\n"
     ]
    },
    {
     "name": "stderr",
     "output_type": "stream",
     "text": [
      "100%|████████████████████████████████████████████████████████████████████| 200/200 [00:13<00:00, 14.70it/s]\n"
     ]
    },
    {
     "name": "stdout",
     "output_type": "stream",
     "text": [
      " Epoch 56: Label Accuracy is 78.26249694824219% Color Accuracy is 99.99749755859375%\n",
      " Epoch 56: Loss is 1391.8388671875\n"
     ]
    },
    {
     "name": "stderr",
     "output_type": "stream",
     "text": [
      "100%|████████████████████████████████████████████████████████████████████| 200/200 [00:14<00:00, 13.70it/s]\n"
     ]
    },
    {
     "name": "stdout",
     "output_type": "stream",
     "text": [
      " Epoch 57: Label Accuracy is 78.37999725341797% Color Accuracy is 100.0%\n",
      " Epoch 57: Loss is 1349.0330810546875\n"
     ]
    },
    {
     "name": "stderr",
     "output_type": "stream",
     "text": [
      "100%|████████████████████████████████████████████████████████████████████| 200/200 [00:15<00:00, 13.12it/s]\n"
     ]
    },
    {
     "name": "stdout",
     "output_type": "stream",
     "text": [
      " Epoch 58: Label Accuracy is 78.1624984741211% Color Accuracy is 100.0%\n",
      " Epoch 58: Loss is 1357.282470703125\n"
     ]
    },
    {
     "name": "stderr",
     "output_type": "stream",
     "text": [
      "100%|████████████████████████████████████████████████████████████████████| 200/200 [00:13<00:00, 15.12it/s]\n"
     ]
    },
    {
     "name": "stdout",
     "output_type": "stream",
     "text": [
      " Epoch 59: Label Accuracy is 78.2125015258789% Color Accuracy is 100.0%\n",
      " Epoch 59: Loss is 1369.8934326171875\n"
     ]
    },
    {
     "name": "stderr",
     "output_type": "stream",
     "text": [
      "100%|████████████████████████████████████████████████████████████████████| 200/200 [00:15<00:00, 12.52it/s]\n"
     ]
    },
    {
     "name": "stdout",
     "output_type": "stream",
     "text": [
      " Epoch 60: Label Accuracy is 78.4000015258789% Color Accuracy is 100.0%\n",
      " Epoch 60: Loss is 1364.3402099609375\n"
     ]
    },
    {
     "data": {
      "image/png": "[encoded data removed]",
      "text/plain": [
       "<Figure size 648x324 with 18 Axes>"
      ]
     },
     "metadata": {},
     "output_type": "display_data"
    },
    {
     "name": "stderr",
     "output_type": "stream",
     "text": [
      "100%|████████████████████████████████████████████████████████████████████| 200/200 [00:15<00:00, 12.87it/s]\n"
     ]
    },
    {
     "name": "stdout",
     "output_type": "stream",
     "text": [
      " Epoch 61: Label Accuracy is 78.35749816894531% Color Accuracy is 100.0%\n",
      " Epoch 61: Loss is 1333.7900390625\n"
     ]
    },
    {
     "name": "stderr",
     "output_type": "stream",
     "text": [
      "100%|████████████████████████████████████████████████████████████████████| 200/200 [00:14<00:00, 13.75it/s]\n"
     ]
    },
    {
     "name": "stdout",
     "output_type": "stream",
     "text": [
      " Epoch 62: Label Accuracy is 78.34500122070312% Color Accuracy is 100.0%\n",
      " Epoch 62: Loss is 1353.4422607421875\n"
     ]
    },
    {
     "name": "stderr",
     "output_type": "stream",
     "text": [
      "100%|████████████████████████████████████████████████████████████████████| 200/200 [00:15<00:00, 13.18it/s]\n"
     ]
    },
    {
     "name": "stdout",
     "output_type": "stream",
     "text": [
      " Epoch 63: Label Accuracy is 78.59249877929688% Color Accuracy is 100.0%\n",
      " Epoch 63: Loss is 1359.9708251953125\n"
     ]
    },
    {
     "name": "stderr",
     "output_type": "stream",
     "text": [
      "100%|████████████████████████████████████████████████████████████████████| 200/200 [00:15<00:00, 13.27it/s]\n"
     ]
    },
    {
     "name": "stdout",
     "output_type": "stream",
     "text": [
      " Epoch 64: Label Accuracy is 78.4574966430664% Color Accuracy is 100.0%\n",
      " Epoch 64: Loss is 1338.9150390625\n"
     ]
    },
    {
     "name": "stderr",
     "output_type": "stream",
     "text": [
      "100%|████████████████████████████████████████████████████████████████████| 200/200 [00:14<00:00, 13.71it/s]\n"
     ]
    },
    {
     "name": "stdout",
     "output_type": "stream",
     "text": [
      " Epoch 65: Label Accuracy is 78.54499816894531% Color Accuracy is 100.0%\n",
      " Epoch 65: Loss is 1370.4813232421875\n"
     ]
    },
    {
     "name": "stderr",
     "output_type": "stream",
     "text": [
      "100%|████████████████████████████████████████████████████████████████████| 200/200 [00:15<00:00, 13.04it/s]\n"
     ]
    },
    {
     "name": "stdout",
     "output_type": "stream",
     "text": [
      " Epoch 66: Label Accuracy is 78.22249603271484% Color Accuracy is 99.99749755859375%\n",
      " Epoch 66: Loss is 1357.17724609375\n"
     ]
    },
    {
     "name": "stderr",
     "output_type": "stream",
     "text": [
      "100%|████████████████████████████████████████████████████████████████████| 200/200 [00:15<00:00, 13.14it/s]\n"
     ]
    },
    {
     "name": "stdout",
     "output_type": "stream",
     "text": [
      " Epoch 67: Label Accuracy is 78.50749969482422% Color Accuracy is 100.0%\n",
      " Epoch 67: Loss is 1349.740966796875\n"
     ]
    },
    {
     "name": "stderr",
     "output_type": "stream",
     "text": [
      "100%|████████████████████████████████████████████████████████████████████| 200/200 [00:14<00:00, 13.40it/s]\n"
     ]
    },
    {
     "name": "stdout",
     "output_type": "stream",
     "text": [
      " Epoch 68: Label Accuracy is 78.4574966430664% Color Accuracy is 100.0%\n",
      " Epoch 68: Loss is 1347.822509765625\n"
     ]
    },
    {
     "name": "stderr",
     "output_type": "stream",
     "text": [
      "100%|████████████████████████████████████████████████████████████████████| 200/200 [00:14<00:00, 13.69it/s]\n"
     ]
    },
    {
     "name": "stdout",
     "output_type": "stream",
     "text": [
      " Epoch 69: Label Accuracy is 78.41999816894531% Color Accuracy is 100.0%\n",
      " Epoch 69: Loss is 1363.33740234375\n"
     ]
    },
    {
     "name": "stderr",
     "output_type": "stream",
     "text": [
      "100%|████████████████████████████████████████████████████████████████████| 200/200 [00:15<00:00, 12.61it/s]\n"
     ]
    },
    {
     "name": "stdout",
     "output_type": "stream",
     "text": [
      " Epoch 70: Label Accuracy is 78.54000091552734% Color Accuracy is 100.0%\n",
      " Epoch 70: Loss is 1376.6839599609375\n"
     ]
    },
    {
     "data": {
      "image/png": "[encoded data removed]",
      "text/plain": [
       "<Figure size 648x324 with 18 Axes>"
      ]
     },
     "metadata": {},
     "output_type": "display_data"
    },
    {
     "name": "stderr",
     "output_type": "stream",
     "text": [
      "100%|████████████████████████████████████████████████████████████████████| 200/200 [00:14<00:00, 13.58it/s]\n"
     ]
    },
    {
     "name": "stdout",
     "output_type": "stream",
     "text": [
      " Epoch 71: Label Accuracy is 78.54499816894531% Color Accuracy is 100.0%\n",
      " Epoch 71: Loss is 1364.131591796875\n"
     ]
    },
    {
     "name": "stderr",
     "output_type": "stream",
     "text": [
      "100%|████████████████████████████████████████████████████████████████████| 200/200 [00:12<00:00, 15.45it/s]\n"
     ]
    },
    {
     "name": "stdout",
     "output_type": "stream",
     "text": [
      " Epoch 72: Label Accuracy is 78.76499938964844% Color Accuracy is 100.0%\n",
      " Epoch 72: Loss is 1350.0802001953125\n"
     ]
    },
    {
     "name": "stderr",
     "output_type": "stream",
     "text": [
      "100%|████████████████████████████████████████████████████████████████████| 200/200 [00:14<00:00, 13.80it/s]\n"
     ]
    },
    {
     "name": "stdout",
     "output_type": "stream",
     "text": [
      " Epoch 73: Label Accuracy is 78.49749755859375% Color Accuracy is 100.0%\n",
      " Epoch 73: Loss is 1358.0474853515625\n"
     ]
    },
    {
     "name": "stderr",
     "output_type": "stream",
     "text": [
      "100%|████████████████████████████████████████████████████████████████████| 200/200 [00:15<00:00, 13.33it/s]\n"
     ]
    },
    {
     "name": "stdout",
     "output_type": "stream",
     "text": [
      " Epoch 74: Label Accuracy is 78.43000030517578% Color Accuracy is 100.0%\n",
      " Epoch 74: Loss is 1348.48291015625\n"
     ]
    },
    {
     "name": "stderr",
     "output_type": "stream",
     "text": [
      "100%|████████████████████████████████████████████████████████████████████| 200/200 [00:14<00:00, 13.37it/s]\n"
     ]
    },
    {
     "name": "stdout",
     "output_type": "stream",
     "text": [
      " Epoch 75: Label Accuracy is 78.6449966430664% Color Accuracy is 100.0%\n",
      " Epoch 75: Loss is 1339.0787353515625\n"
     ]
    },
    {
     "name": "stderr",
     "output_type": "stream",
     "text": [
      "100%|████████████████████████████████████████████████████████████████████| 200/200 [00:14<00:00, 13.69it/s]\n"
     ]
    },
    {
     "name": "stdout",
     "output_type": "stream",
     "text": [
      " Epoch 76: Label Accuracy is 78.76249694824219% Color Accuracy is 100.0%\n",
      " Epoch 76: Loss is 1347.91259765625\n"
     ]
    },
    {
     "name": "stderr",
     "output_type": "stream",
     "text": [
      "100%|████████████████████████████████████████████████████████████████████| 200/200 [00:15<00:00, 13.15it/s]\n"
     ]
    },
    {
     "name": "stdout",
     "output_type": "stream",
     "text": [
      " Epoch 77: Label Accuracy is 78.48999786376953% Color Accuracy is 100.0%\n",
      " Epoch 77: Loss is 1404.8472900390625\n"
     ]
    },
    {
     "name": "stderr",
     "output_type": "stream",
     "text": [
      "100%|████████████████████████████████████████████████████████████████████| 200/200 [00:15<00:00, 13.17it/s]\n"
     ]
    },
    {
     "name": "stdout",
     "output_type": "stream",
     "text": [
      " Epoch 78: Label Accuracy is 78.69999694824219% Color Accuracy is 100.0%\n",
      " Epoch 78: Loss is 1349.256103515625\n"
     ]
    },
    {
     "name": "stderr",
     "output_type": "stream",
     "text": [
      "100%|████████████████████████████████████████████████████████████████████| 200/200 [00:13<00:00, 14.68it/s]\n"
     ]
    },
    {
     "name": "stdout",
     "output_type": "stream",
     "text": [
      " Epoch 79: Label Accuracy is 78.58000183105469% Color Accuracy is 100.0%\n",
      " Epoch 79: Loss is 1343.446044921875\n"
     ]
    },
    {
     "name": "stderr",
     "output_type": "stream",
     "text": [
      "100%|████████████████████████████████████████████████████████████████████| 200/200 [00:15<00:00, 13.17it/s]\n"
     ]
    },
    {
     "name": "stdout",
     "output_type": "stream",
     "text": [
      " Epoch 80: Label Accuracy is 78.94499969482422% Color Accuracy is 100.0%\n",
      " Epoch 80: Loss is 1323.6156005859375\n"
     ]
    },
    {
     "data": {
      "image/png": "[encoded data removed]",
      "text/plain": [
       "<Figure size 648x324 with 18 Axes>"
      ]
     },
     "metadata": {},
     "output_type": "display_data"
    },
    {
     "name": "stderr",
     "output_type": "stream",
     "text": [
      "100%|████████████████████████████████████████████████████████████████████| 200/200 [00:14<00:00, 13.92it/s]\n"
     ]
    },
    {
     "name": "stdout",
     "output_type": "stream",
     "text": [
      " Epoch 81: Label Accuracy is 78.84500122070312% Color Accuracy is 100.0%\n",
      " Epoch 81: Loss is 1327.82763671875\n"
     ]
    },
    {
     "name": "stderr",
     "output_type": "stream",
     "text": [
      "100%|████████████████████████████████████████████████████████████████████| 200/200 [00:13<00:00, 14.80it/s]\n"
     ]
    },
    {
     "name": "stdout",
     "output_type": "stream",
     "text": [
      " Epoch 82: Label Accuracy is 78.69249725341797% Color Accuracy is 100.0%\n",
      " Epoch 82: Loss is 1344.3740234375\n"
     ]
    },
    {
     "name": "stderr",
     "output_type": "stream",
     "text": [
      "100%|████████████████████████████████████████████████████████████████████| 200/200 [00:14<00:00, 13.71it/s]\n"
     ]
    },
    {
     "name": "stdout",
     "output_type": "stream",
     "text": [
      " Epoch 83: Label Accuracy is 78.8324966430664% Color Accuracy is 100.0%\n",
      " Epoch 83: Loss is 1348.19921875\n"
     ]
    },
    {
     "name": "stderr",
     "output_type": "stream",
     "text": [
      "100%|████████████████████████████████████████████████████████████████████| 200/200 [00:14<00:00, 13.57it/s]\n"
     ]
    },
    {
     "name": "stdout",
     "output_type": "stream",
     "text": [
      " Epoch 84: Label Accuracy is 78.57749938964844% Color Accuracy is 100.0%\n",
      " Epoch 84: Loss is 1393.4449462890625\n"
     ]
    },
    {
     "name": "stderr",
     "output_type": "stream",
     "text": [
      "100%|████████████████████████████████████████████████████████████████████| 200/200 [00:13<00:00, 14.33it/s]\n"
     ]
    },
    {
     "name": "stdout",
     "output_type": "stream",
     "text": [
      " Epoch 85: Label Accuracy is 78.56749725341797% Color Accuracy is 100.0%\n",
      " Epoch 85: Loss is 1378.685546875\n"
     ]
    },
    {
     "name": "stderr",
     "output_type": "stream",
     "text": [
      "100%|████████████████████████████████████████████████████████████████████| 200/200 [00:14<00:00, 13.68it/s]\n"
     ]
    },
    {
     "name": "stdout",
     "output_type": "stream",
     "text": [
      " Epoch 86: Label Accuracy is 78.84749603271484% Color Accuracy is 100.0%\n",
      " Epoch 86: Loss is 1349.466064453125\n"
     ]
    },
    {
     "name": "stderr",
     "output_type": "stream",
     "text": [
      "100%|████████████████████████████████████████████████████████████████████| 200/200 [00:13<00:00, 14.55it/s]\n"
     ]
    },
    {
     "name": "stdout",
     "output_type": "stream",
     "text": [
      " Epoch 87: Label Accuracy is 78.73500061035156% Color Accuracy is 100.0%\n",
      " Epoch 87: Loss is 1368.322509765625\n"
     ]
    },
    {
     "name": "stderr",
     "output_type": "stream",
     "text": [
      "100%|████████████████████████████████████████████████████████████████████| 200/200 [00:14<00:00, 13.70it/s]\n"
     ]
    },
    {
     "name": "stdout",
     "output_type": "stream",
     "text": [
      " Epoch 88: Label Accuracy is 78.98999786376953% Color Accuracy is 100.0%\n",
      " Epoch 88: Loss is 1366.9595947265625\n"
     ]
    },
    {
     "name": "stderr",
     "output_type": "stream",
     "text": [
      "100%|████████████████████████████████████████████████████████████████████| 200/200 [00:14<00:00, 13.42it/s]\n"
     ]
    },
    {
     "name": "stdout",
     "output_type": "stream",
     "text": [
      " Epoch 89: Label Accuracy is 78.75499725341797% Color Accuracy is 100.0%\n",
      " Epoch 89: Loss is 1256.778564453125\n"
     ]
    },
    {
     "name": "stderr",
     "output_type": "stream",
     "text": [
      "100%|████████████████████████████████████████████████████████████████████| 200/200 [00:14<00:00, 13.90it/s]\n"
     ]
    },
    {
     "name": "stdout",
     "output_type": "stream",
     "text": [
      " Epoch 90: Label Accuracy is 79.0199966430664% Color Accuracy is 100.0%\n",
      " Epoch 90: Loss is 1347.65185546875\n"
     ]
    },
    {
     "data": {
      "image/png": "[encoded data removed]",
      "text/plain": [
       "<Figure size 648x324 with 18 Axes>"
      ]
     },
     "metadata": {},
     "output_type": "display_data"
    },
    {
     "name": "stderr",
     "output_type": "stream",
     "text": [
      "100%|████████████████████████████████████████████████████████████████████| 200/200 [00:13<00:00, 14.35it/s]\n"
     ]
    },
    {
     "name": "stdout",
     "output_type": "stream",
     "text": [
      " Epoch 91: Label Accuracy is 78.85499572753906% Color Accuracy is 100.0%\n",
      " Epoch 91: Loss is 1362.698486328125\n"
     ]
    },
    {
     "name": "stderr",
     "output_type": "stream",
     "text": [
      "100%|████████████████████████████████████████████████████████████████████| 200/200 [00:15<00:00, 13.24it/s]\n"
     ]
    },
    {
     "name": "stdout",
     "output_type": "stream",
     "text": [
      " Epoch 92: Label Accuracy is 79.04000091552734% Color Accuracy is 100.0%\n",
      " Epoch 92: Loss is 1383.06005859375\n"
     ]
    },
    {
     "name": "stderr",
     "output_type": "stream",
     "text": [
      "100%|████████████████████████████████████████████████████████████████████| 200/200 [00:16<00:00, 12.50it/s]\n"
     ]
    },
    {
     "name": "stdout",
     "output_type": "stream",
     "text": [
      " Epoch 93: Label Accuracy is 78.8949966430664% Color Accuracy is 99.99749755859375%\n",
      " Epoch 93: Loss is 1347.159423828125\n"
     ]
    },
    {
     "name": "stderr",
     "output_type": "stream",
     "text": [
      "100%|████████████████████████████████████████████████████████████████████| 200/200 [00:14<00:00, 13.76it/s]\n"
     ]
    },
    {
     "name": "stdout",
     "output_type": "stream",
     "text": [
      " Epoch 94: Label Accuracy is 79.00749969482422% Color Accuracy is 100.0%\n",
      " Epoch 94: Loss is 1312.326904296875\n"
     ]
    },
    {
     "name": "stderr",
     "output_type": "stream",
     "text": [
      "100%|████████████████████████████████████████████████████████████████████| 200/200 [00:14<00:00, 13.69it/s]\n"
     ]
    },
    {
     "name": "stdout",
     "output_type": "stream",
     "text": [
      " Epoch 95: Label Accuracy is 78.95999908447266% Color Accuracy is 100.0%\n",
      " Epoch 95: Loss is 1324.0740966796875\n"
     ]
    },
    {
     "name": "stderr",
     "output_type": "stream",
     "text": [
      "100%|████████████████████████████████████████████████████████████████████| 200/200 [00:15<00:00, 12.79it/s]\n"
     ]
    },
    {
     "name": "stdout",
     "output_type": "stream",
     "text": [
      " Epoch 96: Label Accuracy is 78.94249725341797% Color Accuracy is 100.0%\n",
      " Epoch 96: Loss is 1323.7890625\n"
     ]
    },
    {
     "name": "stderr",
     "output_type": "stream",
     "text": [
      "100%|████████████████████████████████████████████████████████████████████| 200/200 [00:15<00:00, 13.14it/s]\n"
     ]
    },
    {
     "name": "stdout",
     "output_type": "stream",
     "text": [
      " Epoch 97: Label Accuracy is 78.88749694824219% Color Accuracy is 99.99749755859375%\n",
      " Epoch 97: Loss is 1341.8944091796875\n"
     ]
    },
    {
     "name": "stderr",
     "output_type": "stream",
     "text": [
      "100%|████████████████████████████████████████████████████████████████████| 200/200 [00:14<00:00, 13.92it/s]\n"
     ]
    },
    {
     "name": "stdout",
     "output_type": "stream",
     "text": [
      " Epoch 98: Label Accuracy is 79.02749633789062% Color Accuracy is 100.0%\n",
      " Epoch 98: Loss is 1355.4036865234375\n"
     ]
    },
    {
     "name": "stderr",
     "output_type": "stream",
     "text": [
      "100%|████████████████████████████████████████████████████████████████████| 200/200 [00:14<00:00, 13.65it/s]\n"
     ]
    },
    {
     "name": "stdout",
     "output_type": "stream",
     "text": [
      " Epoch 99: Label Accuracy is 78.95500183105469% Color Accuracy is 100.0%\n",
      " Epoch 99: Loss is 1341.962646484375\n"
     ]
    },
    {
     "name": "stderr",
     "output_type": "stream",
     "text": [
      "100%|████████████████████████████████████████████████████████████████████| 200/200 [00:15<00:00, 13.03it/s]\n"
     ]
    },
    {
     "name": "stdout",
     "output_type": "stream",
     "text": [
      " Epoch 100: Label Accuracy is 79.01499938964844% Color Accuracy is 100.0%\n",
      " Epoch 100: Loss is 1363.8709716796875\n"
     ]
    },
    {
     "data": {
      "image/png": "[encoded data removed]",
      "text/plain": [
       "<Figure size 648x324 with 18 Axes>"
      ]
     },
     "metadata": {},
     "output_type": "display_data"
    }
   ],
   "source": [
    "%run /home/xzhoubi/hudson/VAE_baselines/train_mnist.py --z_dim 100 --epochs 100 --architecture dense_vae --data_set ColoredMNIST --x_dis Logistic \n",
    "\n"
   ]
  },
  {
   "cell_type": "code",
   "execution_count": null,
   "id": "c2946d90-22c8-4ef8-8e59-78d5e85547d4",
   "metadata": {},
   "outputs": [],
   "source": []
  }
 ],
 "metadata": {
  "kernelspec": {
   "display_name": "vcl",
   "language": "python",
   "name": "vcl"
  },
  "language_info": {
   "codemirror_mode": {
    "name": "ipython",
    "version": 3
   },
   "file_extension": ".py",
   "mimetype": "text/x-python",
   "name": "python",
   "nbconvert_exporter": "python",
   "pygments_lexer": "ipython3",
   "version": "3.8.11"
  }
 },
 "nbformat": 4,
 "nbformat_minor": 5
}
