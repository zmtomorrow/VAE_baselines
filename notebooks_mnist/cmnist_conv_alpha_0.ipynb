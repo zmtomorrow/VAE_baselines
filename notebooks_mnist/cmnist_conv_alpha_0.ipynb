{
 "cells": [
  {
   "cell_type": "code",
   "execution_count": null,
   "id": "1f02bda3-84c7-4b80-9b9e-11df9d6c6357",
   "metadata": {},
   "outputs": [
    {
     "name": "stdout",
     "output_type": "stream",
     "text": [
      "/import/home/xzhoubi/hudson/VAE_baselines\n",
      "Colored MNIST dataset already exists\n",
      "Colored MNIST dataset already exists\n"
     ]
    },
    {
     "name": "stderr",
     "output_type": "stream",
     "text": [
      "  0%|                                                                              | 0/200 [00:00<?, ?it/s]/home/xzhoubi/hudson/miniconda3/envs/vcl/lib/python3.8/site-packages/torch/nn/modules/container.py:139: UserWarning: Implicit dimension choice for softmax has been deprecated. Change the call to include dim=X as an argument.\n",
      "  input = module(input)\n",
      "100%|████████████████████████████████████████████████████████████████████| 200/200 [00:37<00:00,  5.40it/s]\n"
     ]
    },
    {
     "name": "stdout",
     "output_type": "stream",
     "text": [
      " Epoch 0: Label Accuracy is 8.982500076293945% Color Accuracy is 36.42250061035156%\n",
      " Epoch 0: Loss is 1468.6474609375\n"
     ]
    },
    {
     "data": {
      "image/png": "[encoded data removed]",
      "text/plain": [
       "<Figure size 648x324 with 18 Axes>"
      ]
     },
     "metadata": {},
     "output_type": "display_data"
    },
    {
     "name": "stderr",
     "output_type": "stream",
     "text": [
      "100%|████████████████████████████████████████████████████████████████████| 200/200 [00:35<00:00,  5.69it/s]\n"
     ]
    },
    {
     "name": "stdout",
     "output_type": "stream",
     "text": [
      " Epoch 1: Label Accuracy is 8.932499885559082% Color Accuracy is 38.7599983215332%\n",
      " Epoch 1: Loss is 1394.83251953125\n"
     ]
    },
    {
     "name": "stderr",
     "output_type": "stream",
     "text": [
      "100%|████████████████████████████████████████████████████████████████████| 200/200 [00:33<00:00,  5.90it/s]\n"
     ]
    },
    {
     "name": "stdout",
     "output_type": "stream",
     "text": [
      " Epoch 2: Label Accuracy is 8.739999771118164% Color Accuracy is 39.45249938964844%\n",
      " Epoch 2: Loss is 1394.1380615234375\n"
     ]
    },
    {
     "name": "stderr",
     "output_type": "stream",
     "text": [
      "100%|████████████████████████████████████████████████████████████████████| 200/200 [00:34<00:00,  5.74it/s]\n"
     ]
    },
    {
     "name": "stdout",
     "output_type": "stream",
     "text": [
      " Epoch 3: Label Accuracy is 8.712499618530273% Color Accuracy is 40.18000030517578%\n",
      " Epoch 3: Loss is 1375.447265625\n"
     ]
    },
    {
     "name": "stderr",
     "output_type": "stream",
     "text": [
      "100%|████████████████████████████████████████████████████████████████████| 200/200 [00:34<00:00,  5.81it/s]\n"
     ]
    },
    {
     "name": "stdout",
     "output_type": "stream",
     "text": [
      " Epoch 4: Label Accuracy is 8.904999732971191% Color Accuracy is 40.19499969482422%\n",
      " Epoch 4: Loss is 1283.945556640625\n"
     ]
    },
    {
     "name": "stderr",
     "output_type": "stream",
     "text": [
      "100%|████████████████████████████████████████████████████████████████████| 200/200 [00:34<00:00,  5.77it/s]\n"
     ]
    },
    {
     "name": "stdout",
     "output_type": "stream",
     "text": [
      " Epoch 5: Label Accuracy is 8.622499465942383% Color Accuracy is 40.77499771118164%\n",
      " Epoch 5: Loss is 1294.2506103515625\n"
     ]
    },
    {
     "name": "stderr",
     "output_type": "stream",
     "text": [
      "100%|████████████████████████████████████████████████████████████████████| 200/200 [00:35<00:00,  5.69it/s]\n"
     ]
    },
    {
     "name": "stdout",
     "output_type": "stream",
     "text": [
      " Epoch 6: Label Accuracy is 8.632499694824219% Color Accuracy is 40.51749801635742%\n",
      " Epoch 6: Loss is 1223.8570556640625\n"
     ]
    },
    {
     "name": "stderr",
     "output_type": "stream",
     "text": [
      "100%|████████████████████████████████████████████████████████████████████| 200/200 [00:35<00:00,  5.70it/s]\n"
     ]
    },
    {
     "name": "stdout",
     "output_type": "stream",
     "text": [
      " Epoch 7: Label Accuracy is 8.617499351501465% Color Accuracy is 41.11000061035156%\n",
      " Epoch 7: Loss is 1267.958740234375\n"
     ]
    },
    {
     "name": "stderr",
     "output_type": "stream",
     "text": [
      "100%|████████████████████████████████████████████████████████████████████| 200/200 [00:35<00:00,  5.66it/s]\n"
     ]
    },
    {
     "name": "stdout",
     "output_type": "stream",
     "text": [
      " Epoch 8: Label Accuracy is 8.557499885559082% Color Accuracy is 40.98249816894531%\n",
      " Epoch 8: Loss is 1212.6376953125\n"
     ]
    },
    {
     "name": "stderr",
     "output_type": "stream",
     "text": [
      "100%|████████████████████████████████████████████████████████████████████| 200/200 [00:34<00:00,  5.80it/s]\n"
     ]
    },
    {
     "name": "stdout",
     "output_type": "stream",
     "text": [
      " Epoch 9: Label Accuracy is 8.677499771118164% Color Accuracy is 40.752498626708984%\n",
      " Epoch 9: Loss is 1221.9718017578125\n"
     ]
    },
    {
     "name": "stderr",
     "output_type": "stream",
     "text": [
      "100%|████████████████████████████████████████████████████████████████████| 200/200 [00:34<00:00,  5.76it/s]\n"
     ]
    },
    {
     "name": "stdout",
     "output_type": "stream",
     "text": [
      " Epoch 10: Label Accuracy is 8.697500228881836% Color Accuracy is 41.23749923706055%\n",
      " Epoch 10: Loss is 1192.900390625\n"
     ]
    },
    {
     "data": {
      "image/png": "[encoded data removed]",
      "text/plain": [
       "<Figure size 648x324 with 18 Axes>"
      ]
     },
     "metadata": {},
     "output_type": "display_data"
    },
    {
     "name": "stderr",
     "output_type": "stream",
     "text": [
      "100%|████████████████████████████████████████████████████████████████████| 200/200 [00:34<00:00,  5.78it/s]\n"
     ]
    },
    {
     "name": "stdout",
     "output_type": "stream",
     "text": [
      " Epoch 11: Label Accuracy is 8.332499504089355% Color Accuracy is 40.5724983215332%\n",
      " Epoch 11: Loss is 1210.640869140625\n"
     ]
    },
    {
     "name": "stderr",
     "output_type": "stream",
     "text": [
      "100%|████████████████████████████████████████████████████████████████████| 200/200 [00:34<00:00,  5.72it/s]\n"
     ]
    },
    {
     "name": "stdout",
     "output_type": "stream",
     "text": [
      " Epoch 12: Label Accuracy is 8.517499923706055% Color Accuracy is 40.61249923706055%\n",
      " Epoch 12: Loss is 1194.83203125\n"
     ]
    },
    {
     "name": "stderr",
     "output_type": "stream",
     "text": [
      "100%|████████████████████████████████████████████████████████████████████| 200/200 [00:33<00:00,  5.95it/s]\n"
     ]
    },
    {
     "name": "stdout",
     "output_type": "stream",
     "text": [
      " Epoch 13: Label Accuracy is 8.369999885559082% Color Accuracy is 41.30249786376953%\n",
      " Epoch 13: Loss is 1187.8660888671875\n"
     ]
    },
    {
     "name": "stderr",
     "output_type": "stream",
     "text": [
      "100%|████████████████████████████████████████████████████████████████████| 200/200 [00:34<00:00,  5.75it/s]\n"
     ]
    },
    {
     "name": "stdout",
     "output_type": "stream",
     "text": [
      " Epoch 14: Label Accuracy is 8.462499618530273% Color Accuracy is 41.375%\n",
      " Epoch 14: Loss is 1175.948486328125\n"
     ]
    },
    {
     "name": "stderr",
     "output_type": "stream",
     "text": [
      "100%|████████████████████████████████████████████████████████████████████| 200/200 [00:35<00:00,  5.66it/s]\n"
     ]
    },
    {
     "name": "stdout",
     "output_type": "stream",
     "text": [
      " Epoch 15: Label Accuracy is 8.637499809265137% Color Accuracy is 40.98999786376953%\n",
      " Epoch 15: Loss is 1167.8267822265625\n"
     ]
    },
    {
     "name": "stderr",
     "output_type": "stream",
     "text": [
      "100%|████████████████████████████████████████████████████████████████████| 200/200 [00:34<00:00,  5.76it/s]\n"
     ]
    },
    {
     "name": "stdout",
     "output_type": "stream",
     "text": [
      " Epoch 16: Label Accuracy is 8.739999771118164% Color Accuracy is 41.62999725341797%\n",
      " Epoch 16: Loss is 1155.0125732421875\n"
     ]
    },
    {
     "name": "stderr",
     "output_type": "stream",
     "text": [
      "100%|████████████████████████████████████████████████████████████████████| 200/200 [00:34<00:00,  5.77it/s]\n"
     ]
    },
    {
     "name": "stdout",
     "output_type": "stream",
     "text": [
      " Epoch 17: Label Accuracy is 8.832499504089355% Color Accuracy is 41.39500045776367%\n",
      " Epoch 17: Loss is 1173.2550048828125\n"
     ]
    },
    {
     "name": "stderr",
     "output_type": "stream",
     "text": [
      "100%|████████████████████████████████████████████████████████████████████| 200/200 [00:33<00:00,  5.91it/s]\n"
     ]
    },
    {
     "name": "stdout",
     "output_type": "stream",
     "text": [
      " Epoch 18: Label Accuracy is 8.427499771118164% Color Accuracy is 41.59000015258789%\n",
      " Epoch 18: Loss is 1147.223388671875\n"
     ]
    },
    {
     "name": "stderr",
     "output_type": "stream",
     "text": [
      "100%|████████████████████████████████████████████████████████████████████| 200/200 [00:33<00:00,  5.94it/s]\n"
     ]
    },
    {
     "name": "stdout",
     "output_type": "stream",
     "text": [
      " Epoch 19: Label Accuracy is 8.657500267028809% Color Accuracy is 41.32749938964844%\n",
      " Epoch 19: Loss is 1124.1485595703125\n"
     ]
    },
    {
     "name": "stderr",
     "output_type": "stream",
     "text": [
      "100%|████████████████████████████████████████████████████████████████████| 200/200 [00:34<00:00,  5.76it/s]\n"
     ]
    },
    {
     "name": "stdout",
     "output_type": "stream",
     "text": [
      " Epoch 20: Label Accuracy is 8.514999389648438% Color Accuracy is 41.52000045776367%\n",
      " Epoch 20: Loss is 1142.7093505859375\n"
     ]
    },
    {
     "data": {
      "image/png": "[encoded data removed]",
      "text/plain": [
       "<Figure size 648x324 with 18 Axes>"
      ]
     },
     "metadata": {},
     "output_type": "display_data"
    },
    {
     "name": "stderr",
     "output_type": "stream",
     "text": [
      "100%|████████████████████████████████████████████████████████████████████| 200/200 [00:35<00:00,  5.69it/s]\n"
     ]
    },
    {
     "name": "stdout",
     "output_type": "stream",
     "text": [
      " Epoch 21: Label Accuracy is 8.397500038146973% Color Accuracy is 41.57500076293945%\n",
      " Epoch 21: Loss is 1146.5523681640625\n"
     ]
    },
    {
     "name": "stderr",
     "output_type": "stream",
     "text": [
      "100%|████████████████████████████████████████████████████████████████████| 200/200 [00:36<00:00,  5.41it/s]\n"
     ]
    },
    {
     "name": "stdout",
     "output_type": "stream",
     "text": [
      " Epoch 22: Label Accuracy is 8.684999465942383% Color Accuracy is 41.60499954223633%\n",
      " Epoch 22: Loss is 1147.282958984375\n"
     ]
    },
    {
     "name": "stderr",
     "output_type": "stream",
     "text": [
      "100%|████████████████████████████████████████████████████████████████████| 200/200 [00:34<00:00,  5.84it/s]\n"
     ]
    },
    {
     "name": "stdout",
     "output_type": "stream",
     "text": [
      " Epoch 23: Label Accuracy is 8.5024995803833% Color Accuracy is 41.86499786376953%\n",
      " Epoch 23: Loss is 1146.6307373046875\n"
     ]
    },
    {
     "name": "stderr",
     "output_type": "stream",
     "text": [
      "100%|████████████████████████████████████████████████████████████████████| 200/200 [00:33<00:00,  5.99it/s]\n"
     ]
    },
    {
     "name": "stdout",
     "output_type": "stream",
     "text": [
      " Epoch 24: Label Accuracy is 8.694999694824219% Color Accuracy is 41.7599983215332%\n",
      " Epoch 24: Loss is 1112.9373779296875\n"
     ]
    },
    {
     "name": "stderr",
     "output_type": "stream",
     "text": [
      "100%|████████████████████████████████████████████████████████████████████| 200/200 [00:34<00:00,  5.88it/s]\n"
     ]
    },
    {
     "name": "stdout",
     "output_type": "stream",
     "text": [
      " Epoch 25: Label Accuracy is 8.675000190734863% Color Accuracy is 42.05500030517578%\n",
      " Epoch 25: Loss is 1115.51171875\n"
     ]
    },
    {
     "name": "stderr",
     "output_type": "stream",
     "text": [
      "100%|████████████████████████████████████████████████████████████████████| 200/200 [00:33<00:00,  6.04it/s]\n"
     ]
    },
    {
     "name": "stdout",
     "output_type": "stream",
     "text": [
      " Epoch 26: Label Accuracy is 8.664999961853027% Color Accuracy is 42.05500030517578%\n",
      " Epoch 26: Loss is 1116.56640625\n"
     ]
    },
    {
     "name": "stderr",
     "output_type": "stream",
     "text": [
      "100%|████████████████████████████████████████████████████████████████████| 200/200 [00:34<00:00,  5.83it/s]\n"
     ]
    },
    {
     "name": "stdout",
     "output_type": "stream",
     "text": [
      " Epoch 27: Label Accuracy is 8.404999732971191% Color Accuracy is 41.94249725341797%\n",
      " Epoch 27: Loss is 1125.875244140625\n"
     ]
    },
    {
     "name": "stderr",
     "output_type": "stream",
     "text": [
      "100%|████████████████████████████████████████████████████████████████████| 200/200 [00:34<00:00,  5.80it/s]\n"
     ]
    },
    {
     "name": "stdout",
     "output_type": "stream",
     "text": [
      " Epoch 28: Label Accuracy is 8.707499504089355% Color Accuracy is 41.342498779296875%\n",
      " Epoch 28: Loss is 1137.6573486328125\n"
     ]
    },
    {
     "name": "stderr",
     "output_type": "stream",
     "text": [
      "100%|████████████████████████████████████████████████████████████████████| 200/200 [00:33<00:00,  5.90it/s]\n"
     ]
    },
    {
     "name": "stdout",
     "output_type": "stream",
     "text": [
      " Epoch 29: Label Accuracy is 8.517499923706055% Color Accuracy is 41.67250061035156%\n",
      " Epoch 29: Loss is 1104.4427490234375\n"
     ]
    },
    {
     "name": "stderr",
     "output_type": "stream",
     "text": [
      "100%|████████████████████████████████████████████████████████████████████| 200/200 [00:34<00:00,  5.87it/s]\n"
     ]
    },
    {
     "name": "stdout",
     "output_type": "stream",
     "text": [
      " Epoch 30: Label Accuracy is 8.497499465942383% Color Accuracy is 41.592498779296875%\n",
      " Epoch 30: Loss is 1132.2562255859375\n"
     ]
    },
    {
     "data": {
      "image/png": "[encoded data removed]",
      "text/plain": [
       "<Figure size 648x324 with 18 Axes>"
      ]
     },
     "metadata": {},
     "output_type": "display_data"
    },
    {
     "name": "stderr",
     "output_type": "stream",
     "text": [
      "100%|████████████████████████████████████████████████████████████████████| 200/200 [00:33<00:00,  5.90it/s]\n"
     ]
    },
    {
     "name": "stdout",
     "output_type": "stream",
     "text": [
      " Epoch 31: Label Accuracy is 8.512499809265137% Color Accuracy is 41.540000915527344%\n",
      " Epoch 31: Loss is 1061.4609375\n"
     ]
    },
    {
     "name": "stderr",
     "output_type": "stream",
     "text": [
      " 50%|██████████████████████████████████▏                                  | 99/200 [00:17<00:18,  5.51it/s]"
     ]
    }
   ],
   "source": [
    "%run /home/xzhoubi/hudson/VAE_baselines/train_mnist.py --z_dim 100 --epochs 200 --architecture conv_vae --data_set ColoredMNIST --x_dis Logistic --alpha 0\n",
    "\n"
   ]
  },
  {
   "cell_type": "code",
   "execution_count": null,
   "id": "c2946d90-22c8-4ef8-8e59-78d5e85547d4",
   "metadata": {},
   "outputs": [],
   "source": []
  }
 ],
 "metadata": {
  "kernelspec": {
   "display_name": "vcl",
   "language": "python",
   "name": "vcl"
  },
  "language_info": {
   "codemirror_mode": {
    "name": "ipython",
    "version": 3
   },
   "file_extension": ".py",
   "mimetype": "text/x-python",
   "name": "python",
   "nbconvert_exporter": "python",
   "pygments_lexer": "ipython3",
   "version": "3.8.11"
  }
 },
 "nbformat": 4,
 "nbformat_minor": 5
}
