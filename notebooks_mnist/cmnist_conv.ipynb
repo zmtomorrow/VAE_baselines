{
 "cells": [
  {
   "cell_type": "code",
   "execution_count": null,
   "id": "1f02bda3-84c7-4b80-9b9e-11df9d6c6357",
   "metadata": {},
   "outputs": [
    {
     "name": "stdout",
     "output_type": "stream",
     "text": [
      "/import/home/xzhoubi/hudson/VAE_baselines\n",
      "Colored MNIST dataset already exists\n",
      "Colored MNIST dataset already exists\n"
     ]
    },
    {
     "name": "stderr",
     "output_type": "stream",
     "text": [
      "  0%|                                                                              | 0/200 [00:00<?, ?it/s]/home/xzhoubi/hudson/miniconda3/envs/vcl/lib/python3.8/site-packages/torch/nn/modules/container.py:139: UserWarning: Implicit dimension choice for softmax has been deprecated. Change the call to include dim=X as an argument.\n",
      "  input = module(input)\n",
      "100%|████████████████████████████████████████████████████████████████████| 200/200 [00:32<00:00,  6.21it/s]\n"
     ]
    },
    {
     "name": "stdout",
     "output_type": "stream",
     "text": [
      " Epoch 0: Label Accuracy is 32.89249801635742% Color Accuracy is 90.40249633789062%\n",
      " Epoch 0: Loss is 1460.314453125\n"
     ]
    },
    {
     "data": {
      "image/png": "[encoded data removed]",
      "text/plain": [
       "<Figure size 648x324 with 18 Axes>"
      ]
     },
     "metadata": {},
     "output_type": "display_data"
    },
    {
     "name": "stderr",
     "output_type": "stream",
     "text": [
      "100%|████████████████████████████████████████████████████████████████████| 200/200 [00:32<00:00,  6.19it/s]\n"
     ]
    },
    {
     "name": "stdout",
     "output_type": "stream",
     "text": [
      " Epoch 1: Label Accuracy is 60.57749938964844% Color Accuracy is 99.99250030517578%\n",
      " Epoch 1: Loss is 1420.133544921875\n"
     ]
    },
    {
     "name": "stderr",
     "output_type": "stream",
     "text": [
      "100%|████████████████████████████████████████████████████████████████████| 200/200 [00:31<00:00,  6.39it/s]\n"
     ]
    },
    {
     "name": "stdout",
     "output_type": "stream",
     "text": [
      " Epoch 2: Label Accuracy is 65.16749572753906% Color Accuracy is 99.99250030517578%\n",
      " Epoch 2: Loss is 1372.702880859375\n"
     ]
    },
    {
     "name": "stderr",
     "output_type": "stream",
     "text": [
      "100%|████████████████████████████████████████████████████████████████████| 200/200 [00:31<00:00,  6.41it/s]\n"
     ]
    },
    {
     "name": "stdout",
     "output_type": "stream",
     "text": [
      " Epoch 3: Label Accuracy is 66.63249969482422% Color Accuracy is 100.0%\n",
      " Epoch 3: Loss is 1382.1749267578125\n"
     ]
    },
    {
     "name": "stderr",
     "output_type": "stream",
     "text": [
      "100%|████████████████████████████████████████████████████████████████████| 200/200 [00:31<00:00,  6.30it/s]\n"
     ]
    },
    {
     "name": "stdout",
     "output_type": "stream",
     "text": [
      " Epoch 4: Label Accuracy is 66.99749755859375% Color Accuracy is 100.0%\n",
      " Epoch 4: Loss is 1291.9224853515625\n"
     ]
    },
    {
     "name": "stderr",
     "output_type": "stream",
     "text": [
      "100%|████████████████████████████████████████████████████████████████████| 200/200 [00:32<00:00,  6.12it/s]\n"
     ]
    },
    {
     "name": "stdout",
     "output_type": "stream",
     "text": [
      " Epoch 5: Label Accuracy is 67.04499816894531% Color Accuracy is 100.0%\n",
      " Epoch 5: Loss is 1288.30712890625\n"
     ]
    },
    {
     "name": "stderr",
     "output_type": "stream",
     "text": [
      "100%|████████████████████████████████████████████████████████████████████| 200/200 [00:32<00:00,  6.18it/s]\n"
     ]
    },
    {
     "name": "stdout",
     "output_type": "stream",
     "text": [
      " Epoch 6: Label Accuracy is 67.19750213623047% Color Accuracy is 100.0%\n",
      " Epoch 6: Loss is 1236.425048828125\n"
     ]
    },
    {
     "name": "stderr",
     "output_type": "stream",
     "text": [
      "100%|████████████████████████████████████████████████████████████████████| 200/200 [00:31<00:00,  6.31it/s]\n"
     ]
    },
    {
     "name": "stdout",
     "output_type": "stream",
     "text": [
      " Epoch 7: Label Accuracy is 67.45249938964844% Color Accuracy is 100.0%\n",
      " Epoch 7: Loss is 1247.760986328125\n"
     ]
    },
    {
     "name": "stderr",
     "output_type": "stream",
     "text": [
      "100%|████████████████████████████████████████████████████████████████████| 200/200 [00:32<00:00,  6.11it/s]\n"
     ]
    },
    {
     "name": "stdout",
     "output_type": "stream",
     "text": [
      " Epoch 8: Label Accuracy is 67.0574951171875% Color Accuracy is 99.9949951171875%\n",
      " Epoch 8: Loss is 1196.49609375\n"
     ]
    },
    {
     "name": "stderr",
     "output_type": "stream",
     "text": [
      "100%|████████████████████████████████████████████████████████████████████| 200/200 [00:32<00:00,  6.19it/s]\n"
     ]
    },
    {
     "name": "stdout",
     "output_type": "stream",
     "text": [
      " Epoch 9: Label Accuracy is 67.03499603271484% Color Accuracy is 99.99749755859375%\n",
      " Epoch 9: Loss is 1189.0240478515625\n"
     ]
    },
    {
     "name": "stderr",
     "output_type": "stream",
     "text": [
      "100%|████████████████████████████████████████████████████████████████████| 200/200 [00:31<00:00,  6.29it/s]\n"
     ]
    },
    {
     "name": "stdout",
     "output_type": "stream",
     "text": [
      " Epoch 10: Label Accuracy is 66.96499633789062% Color Accuracy is 99.98999786376953%\n",
      " Epoch 10: Loss is 1195.0404052734375\n"
     ]
    },
    {
     "data": {
      "image/png": "[encoded data removed]",
      "text/plain": [
       "<Figure size 648x324 with 18 Axes>"
      ]
     },
     "metadata": {},
     "output_type": "display_data"
    },
    {
     "name": "stderr",
     "output_type": "stream",
     "text": [
      "100%|████████████████████████████████████████████████████████████████████| 200/200 [00:32<00:00,  6.22it/s]\n"
     ]
    },
    {
     "name": "stdout",
     "output_type": "stream",
     "text": [
      " Epoch 11: Label Accuracy is 67.09749603271484% Color Accuracy is 100.0%\n",
      " Epoch 11: Loss is 1223.846435546875\n"
     ]
    },
    {
     "name": "stderr",
     "output_type": "stream",
     "text": [
      "100%|████████████████████████████████████████████████████████████████████| 200/200 [00:32<00:00,  6.14it/s]\n"
     ]
    },
    {
     "name": "stdout",
     "output_type": "stream",
     "text": [
      " Epoch 12: Label Accuracy is 67.11499786376953% Color Accuracy is 99.99749755859375%\n",
      " Epoch 12: Loss is 1182.94970703125\n"
     ]
    },
    {
     "name": "stderr",
     "output_type": "stream",
     "text": [
      "100%|████████████████████████████████████████████████████████████████████| 200/200 [00:32<00:00,  6.18it/s]\n"
     ]
    },
    {
     "name": "stdout",
     "output_type": "stream",
     "text": [
      " Epoch 13: Label Accuracy is 67.15249633789062% Color Accuracy is 100.0%\n",
      " Epoch 13: Loss is 1189.640869140625\n"
     ]
    },
    {
     "name": "stderr",
     "output_type": "stream",
     "text": [
      "100%|████████████████████████████████████████████████████████████████████| 200/200 [00:31<00:00,  6.41it/s]\n"
     ]
    },
    {
     "name": "stdout",
     "output_type": "stream",
     "text": [
      " Epoch 14: Label Accuracy is 67.11249542236328% Color Accuracy is 100.0%\n",
      " Epoch 14: Loss is 1190.6356201171875\n"
     ]
    },
    {
     "name": "stderr",
     "output_type": "stream",
     "text": [
      "100%|████████████████████████████████████████████████████████████████████| 200/200 [00:33<00:00,  6.03it/s]\n"
     ]
    },
    {
     "name": "stdout",
     "output_type": "stream",
     "text": [
      " Epoch 15: Label Accuracy is 66.98500061035156% Color Accuracy is 100.0%\n",
      " Epoch 15: Loss is 1168.8519287109375\n"
     ]
    },
    {
     "name": "stderr",
     "output_type": "stream",
     "text": [
      "100%|████████████████████████████████████████████████████████████████████| 200/200 [00:31<00:00,  6.26it/s]\n"
     ]
    },
    {
     "name": "stdout",
     "output_type": "stream",
     "text": [
      " Epoch 16: Label Accuracy is 66.8949966430664% Color Accuracy is 100.0%\n",
      " Epoch 16: Loss is 1158.47607421875\n"
     ]
    },
    {
     "name": "stderr",
     "output_type": "stream",
     "text": [
      "100%|████████████████████████████████████████████████████████████████████| 200/200 [00:32<00:00,  6.10it/s]\n"
     ]
    },
    {
     "name": "stdout",
     "output_type": "stream",
     "text": [
      " Epoch 17: Label Accuracy is 66.9574966430664% Color Accuracy is 100.0%\n",
      " Epoch 17: Loss is 1169.9566650390625\n"
     ]
    },
    {
     "name": "stderr",
     "output_type": "stream",
     "text": [
      "100%|████████████████████████████████████████████████████████████████████| 200/200 [00:31<00:00,  6.41it/s]\n"
     ]
    },
    {
     "name": "stdout",
     "output_type": "stream",
     "text": [
      " Epoch 18: Label Accuracy is 67.04999542236328% Color Accuracy is 99.99749755859375%\n",
      " Epoch 18: Loss is 1189.978515625\n"
     ]
    },
    {
     "name": "stderr",
     "output_type": "stream",
     "text": [
      "100%|████████████████████████████████████████████████████████████████████| 200/200 [00:33<00:00,  6.05it/s]\n"
     ]
    },
    {
     "name": "stdout",
     "output_type": "stream",
     "text": [
      " Epoch 19: Label Accuracy is 66.98500061035156% Color Accuracy is 100.0%\n",
      " Epoch 19: Loss is 1131.8953857421875\n"
     ]
    },
    {
     "name": "stderr",
     "output_type": "stream",
     "text": [
      "100%|████████████████████████████████████████████████████████████████████| 200/200 [00:31<00:00,  6.30it/s]\n"
     ]
    },
    {
     "name": "stdout",
     "output_type": "stream",
     "text": [
      " Epoch 20: Label Accuracy is 66.97999572753906% Color Accuracy is 100.0%\n",
      " Epoch 20: Loss is 1123.291015625\n"
     ]
    },
    {
     "data": {
      "image/png": "[encoded data removed]",
      "text/plain": [
       "<Figure size 648x324 with 18 Axes>"
      ]
     },
     "metadata": {},
     "output_type": "display_data"
    },
    {
     "name": "stderr",
     "output_type": "stream",
     "text": [
      "100%|████████████████████████████████████████████████████████████████████| 200/200 [00:31<00:00,  6.33it/s]\n"
     ]
    },
    {
     "name": "stdout",
     "output_type": "stream",
     "text": [
      " Epoch 21: Label Accuracy is 66.88749694824219% Color Accuracy is 100.0%\n",
      " Epoch 21: Loss is 1142.16064453125\n"
     ]
    },
    {
     "name": "stderr",
     "output_type": "stream",
     "text": [
      "100%|████████████████████████████████████████████████████████████████████| 200/200 [00:32<00:00,  6.24it/s]\n"
     ]
    },
    {
     "name": "stdout",
     "output_type": "stream",
     "text": [
      " Epoch 22: Label Accuracy is 66.86750030517578% Color Accuracy is 99.99749755859375%\n",
      " Epoch 22: Loss is 1145.8671875\n"
     ]
    },
    {
     "name": "stderr",
     "output_type": "stream",
     "text": [
      "100%|████████████████████████████████████████████████████████████████████| 200/200 [00:32<00:00,  6.18it/s]\n"
     ]
    },
    {
     "name": "stdout",
     "output_type": "stream",
     "text": [
      " Epoch 23: Label Accuracy is 66.82499694824219% Color Accuracy is 100.0%\n",
      " Epoch 23: Loss is 1158.6094970703125\n"
     ]
    },
    {
     "name": "stderr",
     "output_type": "stream",
     "text": [
      "100%|████████████████████████████████████████████████████████████████████| 200/200 [00:32<00:00,  6.09it/s]\n"
     ]
    },
    {
     "name": "stdout",
     "output_type": "stream",
     "text": [
      " Epoch 24: Label Accuracy is 66.9000015258789% Color Accuracy is 100.0%\n",
      " Epoch 24: Loss is 1117.372314453125\n"
     ]
    },
    {
     "name": "stderr",
     "output_type": "stream",
     "text": [
      "100%|████████████████████████████████████████████████████████████████████| 200/200 [00:32<00:00,  6.13it/s]\n"
     ]
    },
    {
     "name": "stdout",
     "output_type": "stream",
     "text": [
      " Epoch 25: Label Accuracy is 66.81499481201172% Color Accuracy is 100.0%\n",
      " Epoch 25: Loss is 1106.3763427734375\n"
     ]
    },
    {
     "name": "stderr",
     "output_type": "stream",
     "text": [
      "100%|████████████████████████████████████████████████████████████████████| 200/200 [00:31<00:00,  6.42it/s]\n"
     ]
    },
    {
     "name": "stdout",
     "output_type": "stream",
     "text": [
      " Epoch 26: Label Accuracy is 67.0999984741211% Color Accuracy is 99.99749755859375%\n",
      " Epoch 26: Loss is 1123.5025634765625\n"
     ]
    },
    {
     "name": "stderr",
     "output_type": "stream",
     "text": [
      "100%|████████████████████████████████████████████████████████████████████| 200/200 [00:30<00:00,  6.62it/s]\n"
     ]
    },
    {
     "name": "stdout",
     "output_type": "stream",
     "text": [
      " Epoch 27: Label Accuracy is 66.86499786376953% Color Accuracy is 100.0%\n",
      " Epoch 27: Loss is 1122.2691650390625\n"
     ]
    },
    {
     "name": "stderr",
     "output_type": "stream",
     "text": [
      "100%|████████████████████████████████████████████████████████████████████| 200/200 [00:31<00:00,  6.41it/s]\n"
     ]
    },
    {
     "name": "stdout",
     "output_type": "stream",
     "text": [
      " Epoch 28: Label Accuracy is 66.65750122070312% Color Accuracy is 100.0%\n",
      " Epoch 28: Loss is 1152.5670166015625\n"
     ]
    },
    {
     "name": "stderr",
     "output_type": "stream",
     "text": [
      "100%|████████████████████████████████████████████████████████████████████| 200/200 [00:31<00:00,  6.37it/s]\n"
     ]
    },
    {
     "name": "stdout",
     "output_type": "stream",
     "text": [
      " Epoch 29: Label Accuracy is 66.74250030517578% Color Accuracy is 100.0%\n",
      " Epoch 29: Loss is 1118.65673828125\n"
     ]
    },
    {
     "name": "stderr",
     "output_type": "stream",
     "text": [
      "100%|████████████████████████████████████████████████████████████████████| 200/200 [00:32<00:00,  6.23it/s]\n"
     ]
    },
    {
     "name": "stdout",
     "output_type": "stream",
     "text": [
      " Epoch 30: Label Accuracy is 66.59749603271484% Color Accuracy is 100.0%\n",
      " Epoch 30: Loss is 1131.4195556640625\n"
     ]
    },
    {
     "data": {
      "image/png": "[encoded data removed]",
      "text/plain": [
       "<Figure size 648x324 with 18 Axes>"
      ]
     },
     "metadata": {},
     "output_type": "display_data"
    },
    {
     "name": "stderr",
     "output_type": "stream",
     "text": [
      "100%|████████████████████████████████████████████████████████████████████| 200/200 [00:30<00:00,  6.56it/s]\n"
     ]
    },
    {
     "name": "stdout",
     "output_type": "stream",
     "text": [
      " Epoch 31: Label Accuracy is 66.97999572753906% Color Accuracy is 100.0%\n",
      " Epoch 31: Loss is 1067.4586181640625\n"
     ]
    },
    {
     "name": "stderr",
     "output_type": "stream",
     "text": [
      "100%|████████████████████████████████████████████████████████████████████| 200/200 [00:31<00:00,  6.29it/s]\n"
     ]
    },
    {
     "name": "stdout",
     "output_type": "stream",
     "text": [
      " Epoch 32: Label Accuracy is 66.8125% Color Accuracy is 100.0%\n",
      " Epoch 32: Loss is 1108.44482421875\n"
     ]
    },
    {
     "name": "stderr",
     "output_type": "stream",
     "text": [
      "100%|████████████████████████████████████████████████████████████████████| 200/200 [00:30<00:00,  6.50it/s]\n"
     ]
    },
    {
     "name": "stdout",
     "output_type": "stream",
     "text": [
      " Epoch 33: Label Accuracy is 66.73249816894531% Color Accuracy is 100.0%\n",
      " Epoch 33: Loss is 1076.544677734375\n"
     ]
    },
    {
     "name": "stderr",
     "output_type": "stream",
     "text": [
      "100%|████████████████████████████████████████████████████████████████████| 200/200 [00:31<00:00,  6.38it/s]\n"
     ]
    },
    {
     "name": "stdout",
     "output_type": "stream",
     "text": [
      " Epoch 34: Label Accuracy is 66.67250061035156% Color Accuracy is 100.0%\n",
      " Epoch 34: Loss is 1108.03662109375\n"
     ]
    },
    {
     "name": "stderr",
     "output_type": "stream",
     "text": [
      "100%|████████████████████████████████████████████████████████████████████| 200/200 [00:31<00:00,  6.30it/s]\n"
     ]
    },
    {
     "name": "stdout",
     "output_type": "stream",
     "text": [
      " Epoch 35: Label Accuracy is 66.75499725341797% Color Accuracy is 100.0%\n",
      " Epoch 35: Loss is 1129.9033203125\n"
     ]
    },
    {
     "name": "stderr",
     "output_type": "stream",
     "text": [
      "100%|████████████████████████████████████████████████████████████████████| 200/200 [00:32<00:00,  6.10it/s]\n"
     ]
    },
    {
     "name": "stdout",
     "output_type": "stream",
     "text": [
      " Epoch 36: Label Accuracy is 66.60749816894531% Color Accuracy is 100.0%\n",
      " Epoch 36: Loss is 1106.7213134765625\n"
     ]
    },
    {
     "name": "stderr",
     "output_type": "stream",
     "text": [
      "100%|████████████████████████████████████████████████████████████████████| 200/200 [00:31<00:00,  6.33it/s]\n"
     ]
    },
    {
     "name": "stdout",
     "output_type": "stream",
     "text": [
      " Epoch 37: Label Accuracy is 66.58000183105469% Color Accuracy is 100.0%\n",
      " Epoch 37: Loss is 1080.450927734375\n"
     ]
    },
    {
     "name": "stderr",
     "output_type": "stream",
     "text": [
      "100%|████████████████████████████████████████████████████████████████████| 200/200 [00:31<00:00,  6.31it/s]\n"
     ]
    },
    {
     "name": "stdout",
     "output_type": "stream",
     "text": [
      " Epoch 38: Label Accuracy is 66.69999694824219% Color Accuracy is 100.0%\n",
      " Epoch 38: Loss is 1069.580322265625\n"
     ]
    },
    {
     "name": "stderr",
     "output_type": "stream",
     "text": [
      "100%|████████████████████████████████████████████████████████████████████| 200/200 [00:32<00:00,  6.18it/s]\n"
     ]
    },
    {
     "name": "stdout",
     "output_type": "stream",
     "text": [
      " Epoch 39: Label Accuracy is 66.86750030517578% Color Accuracy is 99.99749755859375%\n",
      " Epoch 39: Loss is 1132.408447265625\n"
     ]
    },
    {
     "name": "stderr",
     "output_type": "stream",
     "text": [
      "100%|████████████████████████████████████████████████████████████████████| 200/200 [00:30<00:00,  6.51it/s]\n"
     ]
    },
    {
     "name": "stdout",
     "output_type": "stream",
     "text": [
      " Epoch 40: Label Accuracy is 66.5824966430664% Color Accuracy is 100.0%\n",
      " Epoch 40: Loss is 1046.972900390625\n"
     ]
    },
    {
     "data": {
      "image/png": "[encoded data removed]",
      "text/plain": [
       "<Figure size 648x324 with 18 Axes>"
      ]
     },
     "metadata": {},
     "output_type": "display_data"
    },
    {
     "name": "stderr",
     "output_type": "stream",
     "text": [
      "100%|████████████████████████████████████████████████████████████████████| 200/200 [00:31<00:00,  6.29it/s]\n"
     ]
    },
    {
     "name": "stdout",
     "output_type": "stream",
     "text": [
      " Epoch 41: Label Accuracy is 66.56999969482422% Color Accuracy is 100.0%\n",
      " Epoch 41: Loss is 1130.08984375\n"
     ]
    },
    {
     "name": "stderr",
     "output_type": "stream",
     "text": [
      "100%|████████████████████████████████████████████████████████████████████| 200/200 [00:32<00:00,  6.19it/s]\n"
     ]
    },
    {
     "name": "stdout",
     "output_type": "stream",
     "text": [
      " Epoch 42: Label Accuracy is 66.9625015258789% Color Accuracy is 100.0%\n",
      " Epoch 42: Loss is 1061.027099609375\n"
     ]
    },
    {
     "name": "stderr",
     "output_type": "stream",
     "text": [
      "100%|████████████████████████████████████████████████████████████████████| 200/200 [00:32<00:00,  6.22it/s]\n"
     ]
    },
    {
     "name": "stdout",
     "output_type": "stream",
     "text": [
      " Epoch 43: Label Accuracy is 66.5824966430664% Color Accuracy is 100.0%\n",
      " Epoch 43: Loss is 1088.5758056640625\n"
     ]
    },
    {
     "name": "stderr",
     "output_type": "stream",
     "text": [
      "100%|████████████████████████████████████████████████████████████████████| 200/200 [00:30<00:00,  6.55it/s]\n"
     ]
    },
    {
     "name": "stdout",
     "output_type": "stream",
     "text": [
      " Epoch 44: Label Accuracy is 66.79000091552734% Color Accuracy is 100.0%\n",
      " Epoch 44: Loss is 1080.4371337890625\n"
     ]
    },
    {
     "name": "stderr",
     "output_type": "stream",
     "text": [
      "100%|████████████████████████████████████████████████████████████████████| 200/200 [00:31<00:00,  6.36it/s]\n"
     ]
    },
    {
     "name": "stdout",
     "output_type": "stream",
     "text": [
      " Epoch 45: Label Accuracy is 66.65999603271484% Color Accuracy is 100.0%\n",
      " Epoch 45: Loss is 1054.3438720703125\n"
     ]
    },
    {
     "name": "stderr",
     "output_type": "stream",
     "text": [
      "100%|████████████████████████████████████████████████████████████████████| 200/200 [00:30<00:00,  6.49it/s]\n"
     ]
    },
    {
     "name": "stdout",
     "output_type": "stream",
     "text": [
      " Epoch 46: Label Accuracy is 66.44750213623047% Color Accuracy is 100.0%\n",
      " Epoch 46: Loss is 1083.2349853515625\n"
     ]
    },
    {
     "name": "stderr",
     "output_type": "stream",
     "text": [
      "100%|████████████████████████████████████████████████████████████████████| 200/200 [00:30<00:00,  6.56it/s]"
     ]
    },
    {
     "name": "stdout",
     "output_type": "stream",
     "text": [
      " Epoch 47: Label Accuracy is 66.48249816894531% Color Accuracy is 100.0%\n",
      " Epoch 47: Loss is 1106.2012939453125\n"
     ]
    },
    {
     "name": "stderr",
     "output_type": "stream",
     "text": [
      "\n",
      " 16%|███████████▍                                                         | 33/200 [00:06<00:36,  4.51it/s]"
     ]
    }
   ],
   "source": [
    "%run /home/xzhoubi/hudson/VAE_baselines/train_mnist.py --z_dim 100 --epochs 200 --architecture conv_vae --data_set ColoredMNIST --x_dis Logistic \n",
    "\n"
   ]
  },
  {
   "cell_type": "code",
   "execution_count": null,
   "id": "c2946d90-22c8-4ef8-8e59-78d5e85547d4",
   "metadata": {},
   "outputs": [],
   "source": []
  }
 ],
 "metadata": {
  "kernelspec": {
   "display_name": "vcl",
   "language": "python",
   "name": "vcl"
  },
  "language_info": {
   "codemirror_mode": {
    "name": "ipython",
    "version": 3
   },
   "file_extension": ".py",
   "mimetype": "text/x-python",
   "name": "python",
   "nbconvert_exporter": "python",
   "pygments_lexer": "ipython3",
   "version": "3.8.11"
  }
 },
 "nbformat": 4,
 "nbformat_minor": 5
}
