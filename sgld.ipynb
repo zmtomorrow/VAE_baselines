{
 "cells": [
  {
   "cell_type": "code",
   "execution_count": 1,
   "metadata": {},
   "outputs": [],
   "source": [
    "import torch\n",
    "import torch.nn as nn\n",
    "from torch import optim\n",
    "from network import *\n",
    "from distributions import *\n",
    "from utils import *\n",
    "import torch.distributions as dis\n",
    "from torch.distributions.bernoulli import Bernoulli\n",
    "import numpy as np\n",
    "import torch.nn.functional as F\n",
    "from utils import batch_KL_diag_gaussian_std\n",
    "from custom_optimizer import SGLD\n",
    "eps = 1e-7"
   ]
  },
  {
   "cell_type": "code",
   "execution_count": 36,
   "metadata": {},
   "outputs": [],
   "source": [
    "class dense_VAE(nn.Module):\n",
    "    def __init__(self, opt):\n",
    "        super().__init__()\n",
    "        self.device = opt['device']\n",
    "        if opt['data_set'] == 'MNIST' or opt['data_set'] == 'BinaryMNIST':\n",
    "            self.input_dim = 32 * 32\n",
    "            self.output_dim = 10\n",
    "            self.latent_dim = 100\n",
    "        self.encoder = dense_encoder(self.input_dim, self.output_dim, self.latent_dim)\n",
    "        if opt['x_dis'] == 'MixLogistic':\n",
    "            self.decoder = dense_decoder(self.input_dim, self.output_dim, self.latent_dim)\n",
    "            self.criterion = lambda real, fake: Bernoulli(logits=fake).log_prob(real).sum()\n",
    "            self.sample_op = lambda x: Bernoulli(logits=x).sample()\n",
    "        elif opt['x_dis'] == 'Logistic':\n",
    "            self.decoder = dense_decoder(self.input_dim, self.output_dim, self.latent_dim)\n",
    "            self.criterion = lambda real, fake: Bernoulli(logits=fake).log_prob(real).sum()\n",
    "            self.sample_op = lambda x: Bernoulli(logits=x).sample()\n",
    "        \n",
    "        self.classifier = nn.Sequential(nn.Linear(self.latent_dim, 10), nn.Softmax()).to(self.device)\n",
    "        self.prior_mu = torch.zeros(self.latent_dim, requires_grad=False)\n",
    "        self.prior_std = torch.ones(self.latent_dim, requires_grad=False)\n",
    "        self.params = list(self.parameters())\n",
    "\n",
    "    def posterior_forward(self, params, x):\n",
    "        z_mu, z_std = params[0], F.softplus(params[1])\n",
    "        eps = torch.randn_like(z_mu).to(self.device)\n",
    "        zs = eps.mul(z_std).add_(z_mu)\n",
    "        pxz_params = self.decoder(zs)\n",
    "        pxz_params = pxz_params.reshape([-1, 1, 32, 32])\n",
    "        loglikelihood = self.criterion(x, pxz_params)\n",
    "        kl = batch_KL_diag_gaussian_std(z_mu, z_std, self.prior_mu.to(self.device), self.prior_std.to(self.device))\n",
    "        elbo = loglikelihood - kl\n",
    "        return torch.mean(elbo) / np.log(2.)\n",
    "\n",
    "    def forward(self, x):\n",
    "        z_mu, z_std = self.encoder(x)\n",
    "        eps = torch.randn_like(z_mu).to(self.device)\n",
    "        zs = eps.mul(z_std).add_(z_mu)\n",
    "        pxz_params = self.decoder(zs)\n",
    "        loglikelihood = self.criterion(x, pxz_params)\n",
    "        \n",
    "        kl = batch_KL_diag_gaussian_std(z_mu, z_std, self.prior_mu.to(self.device), self.prior_std.to(self.device))\n",
    "        elbo = loglikelihood - kl\n",
    "        return torch.mean(elbo) / np.log(2.)\n",
    "    \n",
    "    def joint_forward(self, x, y, alpha=0.0, return_elbo=False):\n",
    "        z_mu, z_std = self.encoder(x)\n",
    "        eps = torch.randn_like(z_mu).to(self.device)\n",
    "        z = eps.mul(z_std).add_(z_mu)\n",
    "        x_out = self.decoder(z)\n",
    "        kl = batch_KL_diag_gaussian_std(z_mu, z_std, self.prior_mu.to(self.device), self.prior_std.to(self.device))\n",
    "        neg_l = - self.criterion(x, x_out)\n",
    "        \n",
    "        y_z_dis = self.classifier(z)\n",
    "        if return_elbo:\n",
    "            logpy_z = torch.sum(y * torch.log(y_z_dis + 1e-8), dim=1)\n",
    "            return -neg_l + logpy_z - kl\n",
    "\n",
    "        classification_loss = -torch.sum(y * torch.log(y_z_dis + 1e-8), dim=1).mean()\n",
    "        loss = torch.mean(neg_l + kl, dim=0) + alpha * classification_loss\n",
    "        return loss\n",
    "    \n",
    "    def sample(self, num=100):\n",
    "        with torch.no_grad():\n",
    "            eps = torch.randn(num, self.latent_dim).to(self.device)\n",
    "            pxz_params = self.decoder(eps)\n",
    "            samples = self.sample_op(pxz_params)\n",
    "            return samples.reshape([-1, 1, 32, 32])\n",
    "    \n",
    "    def logpyz(self, z, y):\n",
    "        y_z_dis = self.classifier(z.view(-1, self.latent_dim))\n",
    "        logpy_z = torch.sum(y * torch.log(y_z_dis + 1e-8), dim=1)\n",
    "        logp_z = dis.Normal(self.prior_mu.to(self.device), self.prior_std.to(self.device)).log_prob(z).sum(-1)\n",
    "        return logpy_z + logp_z\n",
    "    \n",
    "    def conditional_sample(self, y, optimi):\n",
    "        loss_list = []\n",
    "        self.eval()\n",
    "        y = F.one_hot(y, num_classes=10).to(self.device)\n",
    "        z_opt = torch.randn(self.latent_dim, requires_grad=True)\n",
    "        if optimi == 'sgld':\n",
    "            optimizer = SGLD([z_opt], lr=0.01)\n",
    "        elif optimi == 'adam':\n",
    "            optimizer = optim.Adam([z_opt], lr=5e-2)\n",
    "        sgld_samples = []\n",
    "        z_opt = z_opt.to(self.device)\n",
    "        for i in range(0, 100):\n",
    "            optimizer.zero_grad()\n",
    "            L = -self.logpyz(z_opt, y)\n",
    "            L.backward()\n",
    "            if optimi == 'sgld':\n",
    "                sgld_sample = optimizer.step()\n",
    "                sgld_samples.append(sgld_sample)\n",
    "            elif optimi == 'adam':\n",
    "                optimizer.step()\n",
    "        \n",
    "        with torch.no_grad():\n",
    "            if optimi == 'sgld':\n",
    "                final_samples = sgld_samples[50:]\n",
    "                for k, z_sample in enumerate(final_samples):\n",
    "                    vae_out = self.decoder(z_sample.view(1, -1).to(self.device))\n",
    "                    if k == 0:\n",
    "                        x_sample = self.sample_op(vae_out)\n",
    "                    else:\n",
    "                        x_sample += self.sample_op(vae_out)\n",
    "                x_sample /= len(final_samples)\n",
    "            elif optimi == 'adam':\n",
    "                vae_out = self.decoder(z_opt.view(1, -1))\n",
    "                x_sample = self.sample_op(vae_out)\n",
    "            return x_sample\n",
    "\n"
   ]
  },
  {
   "cell_type": "code",
   "execution_count": 37,
   "metadata": {},
   "outputs": [],
   "source": [
    "opt = {}\n",
    "if torch.cuda.is_available():\n",
    "    torch.backends.cudnn.deterministic = True\n",
    "    torch.backends.cudnn.benchmark = True\n",
    "    opt[\"device\"] = torch.device(\"cuda:0\")\n",
    "    opt[\"if_cuda\"] = True\n",
    "else:\n",
    "    opt[\"device\"] = torch.device(\"cpu\")\n",
    "    opt[\"if_cuda\"] = False\n",
    "\n",
    "opt['data_set'] = 'BinaryMNIST'\n",
    "opt['x_dis'] = 'Logistic'  ## or MixLogistic\n",
    "opt['z_channels'] = 2  ## 2*64\n",
    "opt['epochs'] = 100\n",
    "opt['dataset_path'] = '../data/'\n",
    "opt['save_path'] = './save/'\n",
    "opt['result_path'] = './result/'\n",
    "opt['batch_size'] = 100\n",
    "opt['test_batch_size'] = 200\n",
    "opt['if_regularizer'] = False\n",
    "opt['load_model'] = False\n",
    "opt['lr'] = 1e-3\n",
    "opt['data_aug'] = False\n",
    "opt[\"seed\"] = 0\n",
    "opt['if_save_model'] = True\n",
    "opt['save_epoch'] = 50\n",
    "opt['additional_epochs'] = 100\n",
    "opt['sample_size'] = 100\n",
    "opt['if_save_latent'] = True\n",
    "\n",
    "np.random.seed(opt['seed'])\n",
    "torch.manual_seed(opt['seed'])\n",
    "\n",
    "train_data, test_data, train_data_evaluation = LoadData(opt)\n",
    "model = dense_VAE(opt).to(opt['device'])"
   ]
  },
  {
   "cell_type": "code",
   "execution_count": 38,
   "metadata": {},
   "outputs": [
    {
     "data": {
      "text/plain": [
       "<All keys matched successfully>"
      ]
     },
     "execution_count": 38,
     "metadata": {},
     "output_type": "execute_result"
    }
   ],
   "source": [
    "model.load_state_dict(torch.load('/home/ma-user/work/VAE_baseline/save/model_mnist.pth'))"
   ]
  },
  {
   "cell_type": "code",
   "execution_count": 39,
   "metadata": {},
   "outputs": [
    {
     "data": {
      "image/png": "[encoded data removed]",
      "text/plain": [
       "<Figure size 432x288 with 1 Axes>"
      ]
     },
     "metadata": {
      "needs_background": "light"
     },
     "output_type": "display_data"
    }
   ],
   "source": [
    "sample = model.conditional_sample(torch.tensor([7]), optimi='adam')\n",
    "\n",
    "plt.figure()\n",
    "plt.imshow(sample.cpu().numpy().reshape([32, 32, 1]), cmap='gray')\n",
    "plt.show()"
   ]
  },
  {
   "cell_type": "code",
   "execution_count": 45,
   "metadata": {},
   "outputs": [
    {
     "data": {
      "image/png": "[encoded data removed]",
      "text/plain": [
       "<Figure size 432x288 with 1 Axes>"
      ]
     },
     "metadata": {
      "needs_background": "light"
     },
     "output_type": "display_data"
    }
   ],
   "source": [
    "sample = model.conditional_sample(torch.tensor([0]), optimi='sgld')\n",
    "\n",
    "plt.figure()\n",
    "plt.imshow(sample.cpu().numpy().reshape([32, 32, 1]), cmap='gray')\n",
    "plt.show()"
   ]
  },
  {
   "cell_type": "code",
   "execution_count": null,
   "metadata": {},
   "outputs": [],
   "source": []
  }
 ],
 "metadata": {
  "kernelspec": {
   "display_name": "vcl",
   "language": "python",
   "name": "vcl"
  },
  "language_info": {
   "codemirror_mode": {
    "name": "ipython",
    "version": 3
   },
   "file_extension": ".py",
   "mimetype": "text/x-python",
   "name": "python",
   "nbconvert_exporter": "python",
   "pygments_lexer": "ipython3",
   "version": "3.8.11"
  }
 },
 "nbformat": 4,
 "nbformat_minor": 4
}
